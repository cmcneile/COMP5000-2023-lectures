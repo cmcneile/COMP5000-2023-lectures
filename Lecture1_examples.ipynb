{
 "cells": [
  {
   "cell_type": "markdown",
   "id": "1832d00b",
   "metadata": {
    "slideshow": {
     "slide_type": "slide"
    }
   },
   "source": [
    "# Python examples in lecture 1\n",
    "* This file is a jupyter notebook. To run it you should download it and run it on your own machine.\n",
    "* Or you can run it on google collab <https://colab.research.google.com> via your google account. This may be slower than running on your own machine\n",
    "* Information on downloading notebooks from the store to your computer https://youtu.be/1zY7hIj5tWg"
   ]
  },
  {
   "cell_type": "markdown",
   "id": "23b7496f",
   "metadata": {
    "slideshow": {
     "slide_type": "slide"
    }
   },
   "source": [
    "###  First example "
   ]
  },
  {
   "cell_type": "code",
   "execution_count": null,
   "id": "535359b3",
   "metadata": {},
   "outputs": [],
   "source": [
    "# Traditionally we start by writing to the screen\n",
    "print (\"Hello world\")\n",
    "a = 2\n",
    "print (\"a = \" , a)\n",
    "a = a + 2\n",
    "print (\"a = \" , a)"
   ]
  },
  {
   "cell_type": "markdown",
   "id": "dd2e3182",
   "metadata": {
    "slideshow": {
     "slide_type": "slide"
    }
   },
   "source": [
    "Here we run python in a jupyter notebook where we can mix text and python code\n",
    "The main page for jupyter notebooks is at <https://jupyter.org/>"
   ]
  },
  {
   "cell_type": "markdown",
   "id": "0482ca96",
   "metadata": {
    "slideshow": {
     "slide_type": "slide"
    }
   },
   "source": [
    "## Data types in python\n",
    "* The basic building blocks of python programs are variables.\n",
    "* Variables have different type (example; integer, float or string)\n",
    "* See <https://www.w3schools.com/python/python_datatypes.asp> for more information about data types"
   ]
  },
  {
   "cell_type": "code",
   "execution_count": null,
   "id": "a7fff929",
   "metadata": {},
   "outputs": [],
   "source": [
    "# x is an integer\n",
    "x = 10\n",
    "# y is a float\n",
    "y = 3.45\n",
    "# z is a string\n",
    "z = \"Hello\"\n",
    "# a is a boolean\n",
    "a = True"
   ]
  },
  {
   "cell_type": "markdown",
   "id": "bdf65075",
   "metadata": {
    "slideshow": {
     "slide_type": "slide"
    }
   },
   "source": [
    "##  Example of a list\n",
    "\n",
    "* Often we need to build collections of variables\n",
    "* Often use a list to store many variables\n",
    "* See https://www.w3schools.com/python/python_lists.asp"
   ]
  },
  {
   "cell_type": "code",
   "execution_count": null,
   "id": "78c74761",
   "metadata": {},
   "outputs": [],
   "source": [
    "#  This is example of a list\n",
    "v = [23, 14, 6, 8]\n",
    "\n",
    "print(\"The whole list \" , v)\n",
    "\n",
    "print(\"The first element of the list \" , v[0])\n",
    "print(\"The second element of the list \" , v[1])\n",
    "print(\"The number of items in the list is \" , len(v))\n",
    "v[1] = 0\n",
    "print(\"The updated list \" , v)\n"
   ]
  },
  {
   "cell_type": "markdown",
   "id": "7c91a69e",
   "metadata": {
    "slideshow": {
     "slide_type": "slide"
    }
   },
   "source": [
    "## Example of a tuple\n",
    "* Another way of collection variables is to use a tuple \n",
    "* See  https://www.w3schools.com/python/python_tuples.asp\n",
    "* Tuple is similar to a list, but a tuple can not be changed.\n"
   ]
  },
  {
   "cell_type": "code",
   "execution_count": null,
   "id": "26911215",
   "metadata": {},
   "outputs": [],
   "source": [
    "t = ( \"Jane\" , \"Roger\" , ) \n",
    "print(\"Tuple = \" , t)\n",
    "print(\"First element = \" , t[0])"
   ]
  },
  {
   "cell_type": "markdown",
   "id": "b47efa06",
   "metadata": {
    "slideshow": {
     "slide_type": "slide"
    }
   },
   "source": [
    "## Example of a loop\n",
    "* Often we want to process each element of a list\n",
    "* https://www.w3schools.com/python/python_for_loops.asp"
   ]
  },
  {
   "cell_type": "code",
   "execution_count": 4,
   "id": "2e637b9d",
   "metadata": {},
   "outputs": [
    {
     "name": "stdout",
     "output_type": "stream",
     "text": [
      "23\n",
      "14\n",
      "6\n",
      "8\n"
     ]
    }
   ],
   "source": [
    "v = [23, 14, 6, 8]\n",
    "for v_ in v :\n",
    "    print(v_)\n"
   ]
  },
  {
   "cell_type": "markdown",
   "id": "e2512f1b",
   "metadata": {
    "slideshow": {
     "slide_type": "slide"
    }
   },
   "source": [
    "## Conditional statement\n",
    "* We need to be able to do things depending on value\n",
    "* See  https://www.w3schools.com/python/python_conditions.asp for more information"
   ]
  },
  {
   "cell_type": "code",
   "execution_count": null,
   "id": "f14fcb11",
   "metadata": {},
   "outputs": [],
   "source": [
    "x = 10\n",
    "if x > 0:\n",
    "    print(\"x is positive\")\n",
    "else:\n",
    "    print(\"x is negative\")"
   ]
  },
  {
   "cell_type": "markdown",
   "id": "64ca6d8d",
   "metadata": {
    "slideshow": {
     "slide_type": "slide"
    }
   },
   "source": [
    "##  Example of reading from the keyboard\n",
    "Normally we need some input to start the program"
   ]
  },
  {
   "cell_type": "code",
   "execution_count": null,
   "id": "822d85ea",
   "metadata": {},
   "outputs": [],
   "source": [
    "name = input(\"Enter your name\")\n",
    "print(\"Hello \" , name)"
   ]
  },
  {
   "cell_type": "markdown",
   "id": "1ae69c85",
   "metadata": {},
   "source": [
    "What if we want to input an age in years which is an integer\n",
    "The input command always return a string"
   ]
  },
  {
   "cell_type": "code",
   "execution_count": null,
   "id": "7f0b8cd4",
   "metadata": {},
   "outputs": [],
   "source": [
    "age_string = input(\"Enter your age\")\n",
    "age = int(age_string)\n",
    "\n",
    "print(\"This year you are \" , age, \"years old\")\n",
    "print(\"Next year you will be \" , age + 1, \"years old\")\n"
   ]
  },
  {
   "cell_type": "markdown",
   "id": "8e136aec",
   "metadata": {},
   "source": [
    "The function int(x) converts the string x into an integer"
   ]
  },
  {
   "cell_type": "markdown",
   "id": "0848ede7",
   "metadata": {
    "slideshow": {
     "slide_type": "slide"
    }
   },
   "source": [
    "##  Example of a code\n",
    "* Write a program to compute the mean of 67, 80, 39, 36\n",
    "* We have a calculated (67+ 80+ 39+ 36)/4 = 55.5 as a test case"
   ]
  },
  {
   "cell_type": "code",
   "execution_count": 5,
   "id": "b805cb53",
   "metadata": {},
   "outputs": [
    {
     "name": "stdout",
     "output_type": "stream",
     "text": [
      "55.5\n"
     ]
    }
   ],
   "source": [
    "# First attempt\n",
    "v = [ 67, 80, 39, 36]\n",
    "m = 0\n",
    "for x in v :\n",
    "   m += x\n",
    "m = m / 4\n",
    "print(m)\n",
    "\n"
   ]
  },
  {
   "cell_type": "markdown",
   "id": "2f8d721b",
   "metadata": {
    "slideshow": {
     "slide_type": "slide"
    }
   },
   "source": [
    "We can improve the code by making it so it will work for any list (rather than a list of 4 elements)"
   ]
  },
  {
   "cell_type": "code",
   "execution_count": 7,
   "id": "f7113924",
   "metadata": {},
   "outputs": [
    {
     "name": "stdout",
     "output_type": "stream",
     "text": [
      "55.5\n",
      "4\n"
     ]
    }
   ],
   "source": [
    "# Second attempt\n",
    "v = [ 67, 80, 39, 36]\n",
    "m = 0\n",
    "for x in v :\n",
    "   m += x\n",
    "m = m / len(v)\n",
    "print(m)\n",
    "print( len(v))"
   ]
  },
  {
   "cell_type": "markdown",
   "id": "4e5cbf29",
   "metadata": {
    "slideshow": {
     "slide_type": "slide"
    }
   },
   "source": [
    "### Third attempt\n",
    "Later we will study numpy  https://www.w3schools.com/python/numpy/numpy_intro.asp"
   ]
  },
  {
   "cell_type": "code",
   "execution_count": 9,
   "id": "8d04b5ed",
   "metadata": {},
   "outputs": [
    {
     "name": "stdout",
     "output_type": "stream",
     "text": [
      "Mean  55.5\n"
     ]
    }
   ],
   "source": [
    "import numpy as np\n",
    "v = np.array(v)\n",
    "print(\"Mean \" , v.mean())"
   ]
  },
  {
   "cell_type": "code",
   "execution_count": null,
   "id": "38cdf3c5",
   "metadata": {},
   "outputs": [],
   "source": []
  }
 ],
 "metadata": {
  "celltoolbar": "Slideshow",
  "kernelspec": {
   "display_name": "Python 3 (ipykernel)",
   "language": "python",
   "name": "python3"
  },
  "language_info": {
   "codemirror_mode": {
    "name": "ipython",
    "version": 3
   },
   "file_extension": ".py",
   "mimetype": "text/x-python",
   "name": "python",
   "nbconvert_exporter": "python",
   "pygments_lexer": "ipython3",
   "version": "3.9.17"
  }
 },
 "nbformat": 4,
 "nbformat_minor": 5
}
