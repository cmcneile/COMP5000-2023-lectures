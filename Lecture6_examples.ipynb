{
 "cells": [
  {
   "cell_type": "markdown",
   "id": "1832d00b",
   "metadata": {
    "slideshow": {
     "slide_type": "slide"
    }
   },
   "source": [
    "# Python examples in lecture 6\n",
    "* This file is a jupyter notebook. To run it you can download it from the DLE and run it on your own machine.\n",
    "* Or you can run it on google collab <https://colab.research.google.com> via your google account. This may be slower than running on your own machine\n",
    "* Information on downloading notebooks from the store to your computer https://youtu.be/1zY7hIj5tWg\n",
    "\n",
    "This notebook shows how to run basic SQL commands from python"
   ]
  },
  {
   "cell_type": "markdown",
   "id": "bbc614a2",
   "metadata": {
    "slideshow": {
     "slide_type": "slide"
    }
   },
   "source": [
    "##  First example of SQL command\n",
    "\n",
    "**SELECT * FROM orders**\n",
    "\n",
    "* **\\*** means everything\n",
    "* **orders** is the table name\n",
    "\n",
    "The database in the file supermarket.db"
   ]
  },
  {
   "cell_type": "code",
   "execution_count": 1,
   "id": "8b58712d",
   "metadata": {
    "slideshow": {
     "slide_type": "-"
    }
   },
   "outputs": [
    {
     "ename": "OperationalError",
     "evalue": "no such table: orders",
     "output_type": "error",
     "traceback": [
      "\u001b[0;31m---------------------------------------------------------------------------\u001b[0m",
      "\u001b[0;31mOperationalError\u001b[0m                          Traceback (most recent call last)",
      "Cell \u001b[0;32mIn[1], line 6\u001b[0m\n\u001b[1;32m      3\u001b[0m connection \u001b[38;5;241m=\u001b[39m sqlite3\u001b[38;5;241m.\u001b[39mconnect(\u001b[38;5;124m\"\u001b[39m\u001b[38;5;124msupermarket.db\u001b[39m\u001b[38;5;124m\"\u001b[39m)\n\u001b[1;32m      4\u001b[0m cursor \u001b[38;5;241m=\u001b[39m connection\u001b[38;5;241m.\u001b[39mcursor()\n\u001b[0;32m----> 6\u001b[0m \u001b[43mcursor\u001b[49m\u001b[38;5;241;43m.\u001b[39;49m\u001b[43mexecute\u001b[49m\u001b[43m(\u001b[49m\u001b[38;5;124;43m\"\u001b[39;49m\u001b[38;5;124;43mSELECT * FROM orders\u001b[39;49m\u001b[38;5;124;43m\"\u001b[39;49m\u001b[43m)\u001b[49m \n\u001b[1;32m      7\u001b[0m \u001b[38;5;28mprint\u001b[39m(\u001b[38;5;124m\"\u001b[39m\u001b[38;5;124mfetchall:\u001b[39m\u001b[38;5;124m\"\u001b[39m)\n\u001b[1;32m      8\u001b[0m result \u001b[38;5;241m=\u001b[39m cursor\u001b[38;5;241m.\u001b[39mfetchall() \n",
      "\u001b[0;31mOperationalError\u001b[0m: no such table: orders"
     ]
    }
   ],
   "source": [
    "import sqlite3\n",
    "\n",
    "connection = sqlite3.connect(\"supermarket.db\")\n",
    "cursor = connection.cursor()\n",
    "\n",
    "cursor.execute(\"SELECT * FROM orders\") \n",
    "print(\"fetchall:\")\n",
    "result = cursor.fetchall() \n",
    "for r in result:\n",
    "    print(r)\n",
    "cursor.execute(\"SELECT * FROM orders\") \n",
    "print(\"\\nfetch one:\")\n",
    "res = cursor.fetchone() \n",
    "print(res)\n"
   ]
  },
  {
   "cell_type": "markdown",
   "id": "0b7db08f",
   "metadata": {
    "slideshow": {
     "slide_type": "slide"
    }
   },
   "source": [
    "##  Second SQL example\n",
    "* The type command can help unpack the results"
   ]
  },
  {
   "cell_type": "code",
   "execution_count": 2,
   "id": "7b45dff3",
   "metadata": {},
   "outputs": [
    {
     "ename": "OperationalError",
     "evalue": "no such table: orders",
     "output_type": "error",
     "traceback": [
      "\u001b[0;31m---------------------------------------------------------------------------\u001b[0m",
      "\u001b[0;31mOperationalError\u001b[0m                          Traceback (most recent call last)",
      "Cell \u001b[0;32mIn[2], line 6\u001b[0m\n\u001b[1;32m      3\u001b[0m connection \u001b[38;5;241m=\u001b[39m sqlite3\u001b[38;5;241m.\u001b[39mconnect(\u001b[38;5;124m\"\u001b[39m\u001b[38;5;124mNEWsupermarket.db\u001b[39m\u001b[38;5;124m\"\u001b[39m)\n\u001b[1;32m      4\u001b[0m cursor \u001b[38;5;241m=\u001b[39m connection\u001b[38;5;241m.\u001b[39mcursor()\n\u001b[0;32m----> 6\u001b[0m \u001b[43mcursor\u001b[49m\u001b[38;5;241;43m.\u001b[39;49m\u001b[43mexecute\u001b[49m\u001b[43m(\u001b[49m\u001b[38;5;124;43m\"\u001b[39;49m\u001b[38;5;124;43mSELECT orders FROM orders where date=\u001b[39;49m\u001b[38;5;124;43m'\u001b[39;49m\u001b[38;5;124;43m2019-04-15\u001b[39;49m\u001b[38;5;124;43m'\u001b[39;49m\u001b[38;5;124;43m\"\u001b[39;49m\u001b[43m)\u001b[49m \n\u001b[1;32m      7\u001b[0m \u001b[38;5;28mprint\u001b[39m(\u001b[38;5;124m\"\u001b[39m\u001b[38;5;130;01m\\n\u001b[39;00m\u001b[38;5;124mfetch one:\u001b[39m\u001b[38;5;124m\"\u001b[39m)\n\u001b[1;32m      8\u001b[0m res \u001b[38;5;241m=\u001b[39m cursor\u001b[38;5;241m.\u001b[39mfetchone() \n",
      "\u001b[0;31mOperationalError\u001b[0m: no such table: orders"
     ]
    }
   ],
   "source": [
    "import sqlite3\n",
    "\n",
    "connection = sqlite3.connect(\"NEWsupermarket.db\")\n",
    "cursor = connection.cursor()\n",
    "\n",
    "cursor.execute(\"SELECT orders FROM orders where date='2019-04-15'\") \n",
    "print(\"\\nfetch one:\")\n",
    "res = cursor.fetchone() \n",
    "print(res[0])\n",
    "print(type(res))\n"
   ]
  },
  {
   "cell_type": "markdown",
   "id": "d84ddb0a",
   "metadata": {
    "slideshow": {
     "slide_type": "slide"
    }
   },
   "source": [
    "## An important note\n",
    "\n",
    "* The python script and the database file (supermarket.db) have to be in the same directory for this script to work.\n",
    "\n",
    "* If the python script doesn't find the database file, it will exit and print the confusing error message that it can't find the table.\n",
    "\n",
    "* Sometimes it will also create a version of the database file with zero length, which will then continue to fail.\n",
    "\n",
    "\n",
    "\n"
   ]
  },
  {
   "cell_type": "markdown",
   "id": "7b63cf43",
   "metadata": {
    "slideshow": {
     "slide_type": "slide"
    }
   },
   "source": [
    "##  Format of the sqlite file\n",
    "\n",
    "* Typically there are no applications on PC/mac to read sqlite file.\n",
    "* Online tools can help debug https://inloop.github.io/sqlite-viewer/\n"
   ]
  },
  {
   "cell_type": "markdown",
   "id": "116bd6b5",
   "metadata": {
    "slideshow": {
     "slide_type": "slide"
    }
   },
   "source": [
    "## Bigger example\n",
    "\n",
    "<blockquote>\n",
    "    The management of a company have noticed that the\n",
    "productivity of the firm is reduced, because a\n",
    "number of employees are off sick because of the flu.\n",
    "The CEO suggests that it would be interesting to see \n",
    "if it was cost effective for the company to pay for \n",
    "the flu jab for all employees.\n",
    "</blockquote>\n",
    "\n",
    "The human resources department has two tables stored\n",
    "in a SQLite database in the file: **HR_info.db**. \n",
    "This file is available from the DLE.\n",
    "\n",
    "\n"
   ]
  },
  {
   "cell_type": "markdown",
   "id": "1abd7f25",
   "metadata": {
    "slideshow": {
     "slide_type": "slide"
    }
   },
   "source": [
    "##  Flu jab example continued\n",
    "\n",
    "The database (**HR_info.db**) contains two tables <br>\n",
    "\n",
    "TABLE **HR_info** with the columns:\n",
    "* **staff_number** INTEGER PRIMARY KEY\n",
    "* **salary** INTEGER\n",
    "* **age** INTEGER\n",
    "\n",
    "TABLE **flu_info** with the columns:\n",
    "* **flu_treatment** INTEGER PRIMARY KEY\n",
    "* **staff_number** INTEGER \n",
    "* **days_off** INTEGER\n",
    "\n"
   ]
  },
  {
   "cell_type": "markdown",
   "id": "655c4a27",
   "metadata": {
    "slideshow": {
     "slide_type": "slide"
    }
   },
   "source": [
    "##  Reading in all the information from one table\n",
    "\n",
    "The file HR_info.db is on the DLE."
   ]
  },
  {
   "cell_type": "code",
   "execution_count": 3,
   "id": "a3961b92",
   "metadata": {},
   "outputs": [
    {
     "ename": "OperationalError",
     "evalue": "no such table: HR_info",
     "output_type": "error",
     "traceback": [
      "\u001b[0;31m---------------------------------------------------------------------------\u001b[0m",
      "\u001b[0;31mOperationalError\u001b[0m                          Traceback (most recent call last)",
      "Cell \u001b[0;32mIn[3], line 4\u001b[0m\n\u001b[1;32m      2\u001b[0m connection \u001b[38;5;241m=\u001b[39m sqlite3\u001b[38;5;241m.\u001b[39mconnect(\u001b[38;5;124m\"\u001b[39m\u001b[38;5;124mHR_info.db\u001b[39m\u001b[38;5;124m\"\u001b[39m)\n\u001b[1;32m      3\u001b[0m cursor \u001b[38;5;241m=\u001b[39m connection\u001b[38;5;241m.\u001b[39mcursor()\n\u001b[0;32m----> 4\u001b[0m \u001b[43mcursor\u001b[49m\u001b[38;5;241;43m.\u001b[39;49m\u001b[43mexecute\u001b[49m\u001b[43m(\u001b[49m\u001b[38;5;124;43m\"\u001b[39;49m\u001b[38;5;124;43mSELECT * FROM HR_info  \u001b[39;49m\u001b[38;5;124;43m\"\u001b[39;49m\u001b[43m)\u001b[49m \n\u001b[1;32m      5\u001b[0m result \u001b[38;5;241m=\u001b[39m cursor\u001b[38;5;241m.\u001b[39mfetchall() \n\u001b[1;32m      6\u001b[0m \u001b[38;5;28mprint\u001b[39m(\u001b[38;5;124m\"\u001b[39m\u001b[38;5;124mStaff_number Salary Age\u001b[39m\u001b[38;5;124m\"\u001b[39m) \n",
      "\u001b[0;31mOperationalError\u001b[0m: no such table: HR_info"
     ]
    }
   ],
   "source": [
    "import sqlite3\n",
    "connection = sqlite3.connect(\"HR_info.db\")\n",
    "cursor = connection.cursor()\n",
    "cursor.execute(\"SELECT * FROM HR_info  \") \n",
    "result = cursor.fetchall() \n",
    "print(\"Staff_number Salary Age\") \n",
    "for r in result:\n",
    "    print(r[0], r[1], r[2])"
   ]
  },
  {
   "cell_type": "markdown",
   "id": "4f305452",
   "metadata": {
    "slideshow": {
     "slide_type": "slide"
    }
   },
   "source": [
    "##  A more complex query\n",
    "\n",
    "Find employee over 50 who earn more than 30,000 pounds"
   ]
  },
  {
   "cell_type": "code",
   "execution_count": 4,
   "id": "70bf45b4",
   "metadata": {},
   "outputs": [
    {
     "ename": "OperationalError",
     "evalue": "no such table: HR_info",
     "output_type": "error",
     "traceback": [
      "\u001b[0;31m---------------------------------------------------------------------------\u001b[0m",
      "\u001b[0;31mOperationalError\u001b[0m                          Traceback (most recent call last)",
      "Cell \u001b[0;32mIn[4], line 4\u001b[0m\n\u001b[1;32m      2\u001b[0m connection \u001b[38;5;241m=\u001b[39m sqlite3\u001b[38;5;241m.\u001b[39mconnect(\u001b[38;5;124m\"\u001b[39m\u001b[38;5;124mHR_info.db\u001b[39m\u001b[38;5;124m\"\u001b[39m)\n\u001b[1;32m      3\u001b[0m cursor \u001b[38;5;241m=\u001b[39m connection\u001b[38;5;241m.\u001b[39mcursor()\n\u001b[0;32m----> 4\u001b[0m \u001b[43mcursor\u001b[49m\u001b[38;5;241;43m.\u001b[39;49m\u001b[43mexecute\u001b[49m\u001b[43m(\u001b[49m\u001b[38;5;124;43m\"\u001b[39;49m\u001b[38;5;124;43mSELECT * FROM HR_info where age > 50 and salary > 30000 \u001b[39;49m\u001b[38;5;124;43m\"\u001b[39;49m\u001b[43m)\u001b[49m \n\u001b[1;32m      5\u001b[0m result \u001b[38;5;241m=\u001b[39m cursor\u001b[38;5;241m.\u001b[39mfetchall() \n\u001b[1;32m      6\u001b[0m \u001b[38;5;28mprint\u001b[39m(\u001b[38;5;124m\"\u001b[39m\u001b[38;5;124mStaff_number Salary Age\u001b[39m\u001b[38;5;124m\"\u001b[39m) \n",
      "\u001b[0;31mOperationalError\u001b[0m: no such table: HR_info"
     ]
    }
   ],
   "source": [
    "import sqlite3\n",
    "connection = sqlite3.connect(\"HR_info.db\")\n",
    "cursor = connection.cursor()\n",
    "cursor.execute(\"SELECT * FROM HR_info where age > 50 and salary > 30000 \") \n",
    "result = cursor.fetchall() \n",
    "print(\"Staff_number Salary Age\") \n",
    "for r in result:\n",
    "    print(r[0], r[1], r[2])"
   ]
  },
  {
   "cell_type": "markdown",
   "id": "6935fb01",
   "metadata": {
    "slideshow": {
     "slide_type": "slide"
    }
   },
   "source": [
    "## Pulling the data from the table and plotting it\n",
    "* We want to make a plot of salary versus age \n",
    "* This is a basic data science task"
   ]
  },
  {
   "cell_type": "code",
   "execution_count": 5,
   "id": "edc01c19",
   "metadata": {},
   "outputs": [
    {
     "ename": "OperationalError",
     "evalue": "no such table: HR_info",
     "output_type": "error",
     "traceback": [
      "\u001b[0;31m---------------------------------------------------------------------------\u001b[0m",
      "\u001b[0;31mOperationalError\u001b[0m                          Traceback (most recent call last)",
      "Cell \u001b[0;32mIn[5], line 5\u001b[0m\n\u001b[1;32m      3\u001b[0m connection \u001b[38;5;241m=\u001b[39m sqlite3\u001b[38;5;241m.\u001b[39mconnect(\u001b[38;5;124m\"\u001b[39m\u001b[38;5;124mHR_info.db\u001b[39m\u001b[38;5;124m\"\u001b[39m)\n\u001b[1;32m      4\u001b[0m cursor \u001b[38;5;241m=\u001b[39m connection\u001b[38;5;241m.\u001b[39mcursor()\n\u001b[0;32m----> 5\u001b[0m \u001b[43mcursor\u001b[49m\u001b[38;5;241;43m.\u001b[39;49m\u001b[43mexecute\u001b[49m\u001b[43m(\u001b[49m\u001b[38;5;124;43m\"\u001b[39;49m\u001b[38;5;124;43mSELECT * FROM HR_info\u001b[39;49m\u001b[38;5;124;43m\"\u001b[39;49m\u001b[43m)\u001b[49m \n\u001b[1;32m      6\u001b[0m result \u001b[38;5;241m=\u001b[39m cursor\u001b[38;5;241m.\u001b[39mfetchall() \n\u001b[1;32m      7\u001b[0m age \u001b[38;5;241m=\u001b[39m [] \n",
      "\u001b[0;31mOperationalError\u001b[0m: no such table: HR_info"
     ]
    }
   ],
   "source": [
    "import sqlite3\n",
    "import matplotlib.pyplot as plt\n",
    "connection = sqlite3.connect(\"HR_info.db\")\n",
    "cursor = connection.cursor()\n",
    "cursor.execute(\"SELECT * FROM HR_info\") \n",
    "result = cursor.fetchall() \n",
    "age = [] \n",
    "salary = [] \n",
    "for r in result:\n",
    "    print(r[0], r[1], r[2])\n",
    "    salary.append(r[1])\n",
    "    age.append(r[2])\n",
    "plt.plot(age,salary, \"ro\")\n",
    "plt.xlabel('Age')\n",
    "plt.ylabel(r'Salary pounds')\n",
    "plt.show()\n"
   ]
  },
  {
   "cell_type": "markdown",
   "id": "5bf543cd",
   "metadata": {
    "slideshow": {
     "slide_type": "slide"
    }
   },
   "source": [
    "##  Extracting information from SQLlite file\n",
    "\n",
    "\n",
    "* What if we are given the file **HR_info.db** but no information about the tables.\n",
    "\n",
    "* Can we find the table names and the names of the columns?\n",
    "\n",
    "* Is the datafile self describing?\n",
    "\n",
    "\n",
    "There is a command line interface to sqlite\n",
    "(https://www.sqlite.org/cli.html). This is typically installed\n",
    "with Anaconda.\n",
    "\n",
    "\n",
    "* **sqlite3.exe** on Windows\n",
    "\n",
    "* **sqlite3** program on my Mac.\n",
    "\n",
    "\n",
    "This program is useful for looking at small files and debugging.\n",
    "\n"
   ]
  },
  {
   "cell_type": "markdown",
   "id": "ef4d5be9",
   "metadata": {
    "slideshow": {
     "slide_type": "slide"
    }
   },
   "source": [
    "On my Mac using the command:  sqlite3 HR_info.db\n",
    "\n",
    "<pre>\n",
    "sqlite3 HR_info.db\n",
    "sqlite> .databases\n",
    "main: ./HR_info.db\n",
    "sqlite> .schema\n",
    "CREATE TABLE HR_info (\n",
    "staff_number INTEGER PRIMARY KEY,\n",
    "salary INTEGER,\n",
    "age INTEGER);\n",
    "CREATE TABLE flu_info (\n",
    "flu_treatment INTEGER PRIMARY KEY,\n",
    "staff_number INTEGER,\n",
    "days_off INTEGER);\n",
    "\n",
    "</pre>"
   ]
  },
  {
   "cell_type": "markdown",
   "id": "59c70543",
   "metadata": {
    "slideshow": {
     "slide_type": "slide"
    }
   },
   "source": [
    "## Finding the tables in HR_info.db\n",
    "\n",
    "The file **HR_info.db** is on the DLE.\n"
   ]
  },
  {
   "cell_type": "code",
   "execution_count": 6,
   "id": "cfd1f828",
   "metadata": {},
   "outputs": [],
   "source": [
    "import sqlite3\n",
    "connection = sqlite3.connect(\"HR_info.db\")\n",
    "cursor = connection.cursor()\n",
    "cursor.execute(\"SELECT name FROM sqlite_master WHERE type='table';\") \n",
    "result = cursor.fetchall() \n",
    "for r in result:\n",
    "    print(r)\n"
   ]
  },
  {
   "cell_type": "markdown",
   "id": "85add4d5",
   "metadata": {
    "slideshow": {
     "slide_type": "slide"
    }
   },
   "source": [
    "## Finding the column names in HR_info.db\n",
    "\n",
    "* The file HR_info.db is on the DLE.\n",
    "* The example below finds the column names of the table HR_info\n",
    "* PRAGMA  is specific to SQLite, so it is not portable to other databases (https://www.sqlite.org/pragma.html.)\n"
   ]
  },
  {
   "cell_type": "code",
   "execution_count": 7,
   "id": "19bc7dcb",
   "metadata": {},
   "outputs": [],
   "source": [
    "import sqlite3\n",
    "connection = sqlite3.connect(\"HR_info.db\")\n",
    "cursor = connection.cursor()\n",
    "cursor.execute(\"PRAGMA table_info(HR_info);\") \n",
    "result = cursor.fetchall() \n",
    "for r in result:\n",
    "    print(r)"
   ]
  },
  {
   "cell_type": "markdown",
   "id": "555c27ac",
   "metadata": {
    "slideshow": {
     "slide_type": "slide"
    }
   },
   "source": [
    "##  Checking whether the database file exists\n",
    "* One issue is that the sqlite database connect will not produce an error, if that file does not exist.\n",
    "* Even worse the the API will create an empty database file \n",
    "\n",
    "In principle, it would be better to use exceptions (https://www.w3schools.com/python/python_try_except.asp)\n",
    "to check whether the file exists,\n",
    "before you try too read it"
   ]
  },
  {
   "cell_type": "code",
   "execution_count": 8,
   "id": "dd7fdd59",
   "metadata": {},
   "outputs": [
    {
     "name": "stdout",
     "output_type": "stream",
     "text": [
      "rm: cannot remove 'new_info.db': No such file or directory\n",
      "Start to work with the database\n"
     ]
    }
   ],
   "source": [
    "! rm new_info.db\n",
    "# this example will not catch the error if the file new_info.db  does not exist\n",
    "import sqlite3\n",
    "try:\n",
    "  connection = sqlite3.connect(\"new_info.db\")\n",
    "except sqlite3.Error as err:\n",
    "  print(\"Error reading database file\")\n",
    "\n",
    "print(\"Start to work with the database\")"
   ]
  },
  {
   "cell_type": "markdown",
   "id": "cd32aff7",
   "metadata": {
    "slideshow": {
     "slide_type": "slide"
    }
   },
   "source": [
    "##  Testing whether a file exists\n",
    "* The os module (os - Operating System ) can check whether a file exists\n",
    "* See  https://www.digitalocean.com/community/tutorials/python-os-module for more information"
   ]
  },
  {
   "cell_type": "code",
   "execution_count": 9,
   "id": "81a92000",
   "metadata": {},
   "outputs": [
    {
     "name": "stdout",
     "output_type": "stream",
     "text": [
      "HGR_info.db  NOT found\n"
     ]
    }
   ],
   "source": [
    "# Code to test whether a file exists\n",
    "import os\n",
    "\n",
    "file_name = \"HGR_info.db\"\n",
    "if os.path.isfile(file_name) :\n",
    "     print(file_name , \" exists\")\n",
    "else:\n",
    "     print(file_name , \" NOT found\")\n"
   ]
  },
  {
   "cell_type": "markdown",
   "id": "5caeb338",
   "metadata": {
    "slideshow": {
     "slide_type": "slide"
    }
   },
   "source": [
    "##  Checking whether a file exists\n",
    "* By using special syntax Uniform Resource Identifier URI the open of the database can be \n",
    "* https://www.sqlite.org/uri.html\n",
    "\n",
    "See the following for more infoormation\n",
    "*  https://stackoverflow.com/questions/57828286/how-to-make-sqlite3-connect-fail-if-the-db-file-does-not-exist"
   ]
  },
  {
   "cell_type": "code",
   "execution_count": 10,
   "id": "b7cbb1ab",
   "metadata": {},
   "outputs": [
    {
     "name": "stdout",
     "output_type": "stream",
     "text": [
      "Error reading the file  FHR_info.db\n"
     ]
    }
   ],
   "source": [
    "# see information \n",
    "import sqlite3\n",
    "database_file = \"FHR_info.db\"\n",
    "try:\n",
    "    # The open of the database is now readonly \"ro\"\n",
    "    connection = sqlite3.connect(\"file:\" + database_file  + \"?mode=ro\", uri=True)\n",
    "except sqlite3.Error as err:\n",
    "  print(\"Error reading the file \" , database_file)\n",
    "\n"
   ]
  },
  {
   "cell_type": "code",
   "execution_count": 11,
   "id": "99039fd7",
   "metadata": {},
   "outputs": [],
   "source": [
    "#! rm GHR_info.db\n"
   ]
  },
  {
   "cell_type": "code",
   "execution_count": null,
   "id": "4af8e5e3",
   "metadata": {},
   "outputs": [],
   "source": []
  }
 ],
 "metadata": {
  "celltoolbar": "Slideshow",
  "kernelspec": {
   "display_name": "Python 3 (ipykernel)",
   "language": "python",
   "name": "python3"
  },
  "language_info": {
   "codemirror_mode": {
    "name": "ipython",
    "version": 3
   },
   "file_extension": ".py",
   "mimetype": "text/x-python",
   "name": "python",
   "nbconvert_exporter": "python",
   "pygments_lexer": "ipython3",
   "version": "3.9.17"
  }
 },
 "nbformat": 4,
 "nbformat_minor": 5
}
