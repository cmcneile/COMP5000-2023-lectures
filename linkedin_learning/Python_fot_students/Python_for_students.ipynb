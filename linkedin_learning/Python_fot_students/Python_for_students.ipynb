{
 "cells": [
  {
   "cell_type": "markdown",
   "id": "fb58b7cd",
   "metadata": {},
   "source": [
    "# Example code for the linkedin learning video Python for Students\n",
    "\n",
    "* This is some python code to get you started with the linkedin learning video: \"Python for Students\"\n",
    "* https://www.linkedin.com/learning-login/share?account=26140778&forceAccount=false&redirect=https%3A%2F%2Fwww.linkedin.com%2Flearning%2Fpython-for-students%3Ftrk%3Dshare_ent_url%26shareId%3DbNrUa7YJTn6H%252BlJdTvg3%252Bg%253D%253D\n",
    "* Students at the University of Plymouth can use their account to access the video at zero cost.\n",
    "\n",
    "In the video they use a IDE to run python. In this module I suggest to use juypter notebooks instead."
   ]
  },
  {
   "cell_type": "markdown",
   "id": "2c0d0734",
   "metadata": {},
   "source": [
    "##  Section on numbers"
   ]
  },
  {
   "cell_type": "code",
   "execution_count": 1,
   "id": "839ce7df",
   "metadata": {},
   "outputs": [
    {
     "data": {
      "text/plain": [
       "1"
      ]
     },
     "execution_count": 1,
     "metadata": {},
     "output_type": "execute_result"
    }
   ],
   "source": [
    "1"
   ]
  },
  {
   "cell_type": "code",
   "execution_count": 2,
   "id": "56659599",
   "metadata": {},
   "outputs": [
    {
     "data": {
      "text/plain": [
       "10"
      ]
     },
     "execution_count": 2,
     "metadata": {},
     "output_type": "execute_result"
    }
   ],
   "source": [
    "10"
   ]
  },
  {
   "cell_type": "code",
   "execution_count": 3,
   "id": "a75c84ff",
   "metadata": {},
   "outputs": [
    {
     "data": {
      "text/plain": [
       "18329"
      ]
     },
     "execution_count": 3,
     "metadata": {},
     "output_type": "execute_result"
    }
   ],
   "source": [
    "18329"
   ]
  },
  {
   "cell_type": "code",
   "execution_count": 4,
   "id": "0547e0f4",
   "metadata": {},
   "outputs": [
    {
     "data": {
      "text/plain": [
       "2"
      ]
     },
     "execution_count": 4,
     "metadata": {},
     "output_type": "execute_result"
    }
   ],
   "source": [
    "1 + 1\n"
   ]
  },
  {
   "cell_type": "code",
   "execution_count": 5,
   "id": "6d653aab",
   "metadata": {},
   "outputs": [
    {
     "data": {
      "text/plain": [
       "1"
      ]
     },
     "execution_count": 5,
     "metadata": {},
     "output_type": "execute_result"
    }
   ],
   "source": [
    "3-2"
   ]
  },
  {
   "cell_type": "code",
   "execution_count": 6,
   "id": "7b64db94",
   "metadata": {},
   "outputs": [
    {
     "data": {
      "text/plain": [
       "6"
      ]
     },
     "execution_count": 6,
     "metadata": {},
     "output_type": "execute_result"
    }
   ],
   "source": [
    "3*2"
   ]
  },
  {
   "cell_type": "code",
   "execution_count": 7,
   "id": "cdc1fdb3",
   "metadata": {},
   "outputs": [
    {
     "data": {
      "text/plain": [
       "1.5"
      ]
     },
     "execution_count": 7,
     "metadata": {},
     "output_type": "execute_result"
    }
   ],
   "source": [
    "3/2"
   ]
  },
  {
   "cell_type": "code",
   "execution_count": 8,
   "id": "8a1fc1ec",
   "metadata": {},
   "outputs": [
    {
     "data": {
      "text/plain": [
       "2.0"
      ]
     },
     "execution_count": 8,
     "metadata": {},
     "output_type": "execute_result"
    }
   ],
   "source": [
    "4/2"
   ]
  },
  {
   "cell_type": "code",
   "execution_count": 9,
   "id": "74e1ae61",
   "metadata": {},
   "outputs": [
    {
     "data": {
      "text/plain": [
       "5.0"
      ]
     },
     "execution_count": 9,
     "metadata": {},
     "output_type": "execute_result"
    }
   ],
   "source": [
    "4.0 + 1"
   ]
  },
  {
   "cell_type": "markdown",
   "id": "d55229b2",
   "metadata": {},
   "source": [
    "# Section on Strings"
   ]
  },
  {
   "cell_type": "code",
   "execution_count": 10,
   "id": "7f1a11c7",
   "metadata": {},
   "outputs": [
    {
     "name": "stdout",
     "output_type": "stream",
     "text": [
      "Hello\n"
     ]
    }
   ],
   "source": [
    "print(\"Hello\")"
   ]
  },
  {
   "cell_type": "code",
   "execution_count": 11,
   "id": "0420a3b4",
   "metadata": {},
   "outputs": [
    {
     "name": "stdout",
     "output_type": "stream",
     "text": [
      "Hello\n"
     ]
    }
   ],
   "source": [
    "print('Hello')"
   ]
  },
  {
   "cell_type": "code",
   "execution_count": 12,
   "id": "24652327",
   "metadata": {},
   "outputs": [
    {
     "name": "stdout",
     "output_type": "stream",
     "text": [
      " Dear John\n",
      "Blah Blah \n"
     ]
    }
   ],
   "source": [
    "print(\"\"\" Dear John\n",
    "Blah Blah \"\"\")"
   ]
  },
  {
   "cell_type": "code",
   "execution_count": 13,
   "id": "a5b83eb8",
   "metadata": {},
   "outputs": [
    {
     "name": "stdout",
     "output_type": "stream",
     "text": [
      "My dog's name is benny\n"
     ]
    }
   ],
   "source": [
    "print(\"My dog's name is benny\")"
   ]
  },
  {
   "cell_type": "code",
   "execution_count": 14,
   "id": "f87e3ffa",
   "metadata": {},
   "outputs": [
    {
     "name": "stdout",
     "output_type": "stream",
     "text": [
      "MY DOG'S NAME IS BENNY\n"
     ]
    }
   ],
   "source": [
    "print(\"My dog's name is benny\".upper())"
   ]
  },
  {
   "cell_type": "markdown",
   "id": "7a9f8e5b",
   "metadata": {},
   "source": [
    "##  Variables and functions"
   ]
  },
  {
   "cell_type": "code",
   "execution_count": null,
   "id": "ab0bd109",
   "metadata": {},
   "outputs": [],
   "source": []
  }
 ],
 "metadata": {
  "kernelspec": {
   "display_name": "Python 3 (ipykernel)",
   "language": "python",
   "name": "python3"
  },
  "language_info": {
   "codemirror_mode": {
    "name": "ipython",
    "version": 3
   },
   "file_extension": ".py",
   "mimetype": "text/x-python",
   "name": "python",
   "nbconvert_exporter": "python",
   "pygments_lexer": "ipython3",
   "version": "3.9.17"
  }
 },
 "nbformat": 4,
 "nbformat_minor": 5
}
