{
 "cells": [
  {
   "cell_type": "markdown",
   "id": "1832d00b",
   "metadata": {
    "slideshow": {
     "slide_type": "slide"
    }
   },
   "source": [
    "# Python examples in lecture 8\n",
    "* This file is a jupyter notebook. To run it you can download it from the DLE and run it on your own machine.\n",
    "* Or you can run it on google collab <https://colab.research.google.com> via your google account. This may be slower than running on your own machine\n",
    "* Information on downloading notebooks from the store to your computer https://youtu.be/1zY7hIj5tWg"
   ]
  },
  {
   "cell_type": "markdown",
   "id": "4cdfdd2c",
   "metadata": {
    "slideshow": {
     "slide_type": "slide"
    }
   },
   "source": [
    "##  Creating a pandas dataframe\n",
    "\n",
    "Creating Pandas Dataframe from lists of lists.\n"
   ]
  },
  {
   "cell_type": "code",
   "execution_count": 2,
   "id": "822d85ea",
   "metadata": {},
   "outputs": [
    {
     "name": "stdout",
     "output_type": "stream",
     "text": [
      "['Tom', 23]\n",
      "   Name  Age\n",
      "0   Tom   23\n",
      "1  Nick   35\n",
      "2  Jane   24\n"
     ]
    }
   ],
   "source": [
    "import pandas as pd \n",
    "data = [['Tom', 23], ['Nick', 35], ['Jane', 24]] \n",
    "print(data[0])\n",
    "df = pd.DataFrame(data, columns = ['Name', 'Age']) \n",
    "print(df)"
   ]
  },
  {
   "cell_type": "markdown",
   "id": "cb31eba9",
   "metadata": {
    "slideshow": {
     "slide_type": "slide"
    }
   },
   "source": [
    "##  Creating a pandas dataframe\n",
    "\n",
    "Creating Pandas Dataframe from list of dictionaries"
   ]
  },
  {
   "cell_type": "code",
   "execution_count": 4,
   "id": "30c6e59e",
   "metadata": {},
   "outputs": [
    {
     "name": "stdout",
     "output_type": "stream",
     "text": [
      "1\n",
      "    a   b   c\n",
      "0   1   2   3\n",
      "1  10  20  30\n"
     ]
    }
   ],
   "source": [
    "import pandas as pd \n",
    "dict1 = {'a': 1, 'b': 2, 'c':3}\n",
    "dict2 =  {'a':10, 'b': 20, 'c': 30}  \n",
    "print(dict1[\"a\"])\n",
    "data = [ dict1, dict2 ]\n",
    "df = pd.DataFrame(data) \n",
    "print(df)\n"
   ]
  },
  {
   "cell_type": "markdown",
   "id": "cb246446",
   "metadata": {
    "slideshow": {
     "slide_type": "slide"
    }
   },
   "source": [
    "##  Extracting variables from pandas dataframe\n",
    "\n",
    "We need to be able to get information out of the dataframe\n",
    "\n",
    "* **df['Age']**  where Age is a column name\n",
    "* **df.iloc[1,1]** element in first row and first column\n",
    "* **df.loc[1,'Age']** element in first row and first column=Age\n",
    "* **df['Age'].to\\_numpy()** extract a column to numpy array\n",
    "\n",
    "Note the difference between **iloc** and **loc**.\n"
   ]
  },
  {
   "cell_type": "code",
   "execution_count": 6,
   "id": "b37dfe0f",
   "metadata": {
    "slideshow": {
     "slide_type": "slide"
    }
   },
   "outputs": [
    {
     "name": "stdout",
     "output_type": "stream",
     "text": [
      "   Name  Age\n",
      "0   Tom   23\n",
      "1  Nick   35\n",
      "2  Jane   24\n",
      "df.iloc[1,1] =  35\n",
      "df.loc[1,Age] =  35\n",
      "df['Age'].to_numpy() [23 35 24]\n"
     ]
    }
   ],
   "source": [
    "import pandas as pd \n",
    "data = [['Tom', 23], ['Nick', 35], ['Jane', 24]] \n",
    "df = pd.DataFrame(data, columns = ['Name', 'Age']) \n",
    "print(df)\n",
    "print(\"df.iloc[1,1] = \" , df.iloc[1,1])\n",
    "print(\"df.loc[1,Age] = \" , df.loc[1,'Age'])\n",
    "print(\"df['Age'].to_numpy()\" , df['Age'].to_numpy())"
   ]
  },
  {
   "cell_type": "markdown",
   "id": "aec5b547",
   "metadata": {
    "slideshow": {
     "slide_type": "slide"
    }
   },
   "source": [
    "##  Changing numbers in a pandas dataframe"
   ]
  },
  {
   "cell_type": "code",
   "execution_count": 7,
   "id": "887fc885",
   "metadata": {},
   "outputs": [
    {
     "name": "stdout",
     "output_type": "stream",
     "text": [
      "   Name  Age\n",
      "0   Tom   23\n",
      "1  Nick   -1\n",
      "2  Jane   24\n"
     ]
    }
   ],
   "source": [
    "import pandas as pd \n",
    "data = [['Tom', 23], ['Nick', 35], ['Jane', 24]] \n",
    "df = pd.DataFrame(data, columns = ['Name', 'Age']) \n",
    "df.iloc[1,1] = -1\n",
    "print(df)\n"
   ]
  },
  {
   "cell_type": "markdown",
   "id": "362be60e",
   "metadata": {
    "slideshow": {
     "slide_type": "slide"
    }
   },
   "source": [
    "##  Deleting columns from pandas data frame\n",
    "\n",
    "* To remove a column from the dataframe use **drop**\n",
    "\n",
    "* The example blow deletes columns: pop and gdpPercap"
   ]
  },
  {
   "cell_type": "code",
   "execution_count": 11,
   "id": "998239f5",
   "metadata": {},
   "outputs": [
    {
     "name": "stdout",
     "output_type": "stream",
     "text": [
      "       country  year         pop continent  lifeExp   gdpPercap\n",
      "0  Afghanistan  1952   8425333.0      Asia   28.801  779.445314\n",
      "1  Afghanistan  1957   9240934.0      Asia   30.332  820.853030\n",
      "2  Afghanistan  1962  10267083.0      Asia   31.997  853.100710\n",
      "------------------------------\n",
      "       country  year continent  lifeExp\n",
      "0  Afghanistan  1952      Asia   28.801\n",
      "1  Afghanistan  1957      Asia   30.332\n",
      "2  Afghanistan  1962      Asia   31.997\n"
     ]
    }
   ],
   "source": [
    "import pandas as pd\n",
    "gapminder_url='https://bit.ly/2cLzoxH'\n",
    "gapminder = pd.read_csv(gapminder_url)\n",
    "print(gapminder.head(3))\n",
    "# pandas drop a column with drop function\n",
    "gapminder.drop(['pop', 'gdpPercap'],axis=1,inplace=True)\n",
    "print(\"------------------------------\")\n",
    "print(gapminder.head(3))"
   ]
  },
  {
   "cell_type": "markdown",
   "id": "cbfbd0de",
   "metadata": {
    "slideshow": {
     "slide_type": "slide"
    }
   },
   "source": [
    "## Missing values in datasets\n",
    "\n",
    "* Many large data sets have missing values.\n",
    "* Why?  Mistakes, bugs in software.\n",
    "\n",
    "<pre>\n",
    "Name,Age,Sex\n",
    "John, 22, Male\n",
    "Jane, 25, Female\n",
    "Roger,, Male\n",
    "Karen,21, Female\n",
    "</pre>\n",
    "\n",
    "Roger's age is missing\n"
   ]
  },
  {
   "cell_type": "markdown",
   "id": "8a9ac31a",
   "metadata": {
    "slideshow": {
     "slide_type": "slide"
    }
   },
   "source": [
    "##  Dealing with missing values\n",
    "* NaN is a missing value in pandas"
   ]
  },
  {
   "cell_type": "code",
   "execution_count": 12,
   "id": "2d2e12de",
   "metadata": {},
   "outputs": [
    {
     "name": "stdout",
     "output_type": "stream",
     "text": [
      "    Name   Age      Sex\n",
      "0   John  22.0     Male\n",
      "1   Jane  25.0   Female\n",
      "2  Roger   NaN     Male\n",
      "3  Karen  21.0   Female\n",
      "sum of ages =  68.0\n"
     ]
    }
   ],
   "source": [
    "import pandas as pd\n",
    "df = pd.read_csv(\"peopleBad.csv\")\n",
    "print(df)\n",
    "print(\"sum of ages = \" , df['Age'].sum())\n"
   ]
  },
  {
   "cell_type": "markdown",
   "id": "fd241d3a",
   "metadata": {
    "slideshow": {
     "slide_type": "slide"
    }
   },
   "source": [
    "##  Options for dealing with missing values\n",
    "\n",
    "Remove all the missing values. This is a safe option.\n",
    "However the size of the data set is\n",
    "  then smaller.\n",
    "\n",
    "* Set the missing values to 0.\n",
    "\n",
    "* Set the missing values to the mean value of the column.\n",
    "\n",
    "* Set the value to the value above in the row above"
   ]
  },
  {
   "cell_type": "markdown",
   "id": "6384bae2",
   "metadata": {
    "slideshow": {
     "slide_type": "slide"
    }
   },
   "source": [
    "## Remove the missing values\n",
    "\n",
    "* Remove NaN's from the loaded data using **dropna**\n",
    "* Remove Roger row  because of missing age.\n",
    "* We have lost 25% of the data set"
   ]
  },
  {
   "cell_type": "code",
   "execution_count": 13,
   "id": "2e8c237c",
   "metadata": {},
   "outputs": [
    {
     "name": "stdout",
     "output_type": "stream",
     "text": [
      "    Name   Age      Sex\n",
      "0   John  22.0     Male\n",
      "1   Jane  25.0   Female\n",
      "3  Karen  21.0   Female\n"
     ]
    }
   ],
   "source": [
    "import pandas as pd\n",
    "df = pd.read_csv(\"peopleBad.csv\")\n",
    "df.dropna(inplace=True)\n",
    "print(df)"
   ]
  },
  {
   "cell_type": "markdown",
   "id": "8bbcb0e6",
   "metadata": {
    "slideshow": {
     "slide_type": "slide"
    }
   },
   "source": [
    "##  Set the missing values to a constant\n",
    "\n",
    "*  Age of Roger set to zero.\n",
    "* Could also set Roger's age to mean age."
   ]
  },
  {
   "cell_type": "code",
   "execution_count": 15,
   "id": "f7881e5d",
   "metadata": {},
   "outputs": [
    {
     "name": "stdout",
     "output_type": "stream",
     "text": [
      "    Name   Age      Sex\n",
      "0   John  22.0     Male\n",
      "1   Jane  25.0   Female\n",
      "2  Roger  22.0     Male\n",
      "3  Karen  21.0   Female\n"
     ]
    }
   ],
   "source": [
    "import pandas as pd\n",
    "df = pd.read_csv(\"peopleBad.csv\")\n",
    "df.fillna(22, inplace=True)\n",
    "print(df)\n"
   ]
  },
  {
   "cell_type": "markdown",
   "id": "33768b8d",
   "metadata": {
    "slideshow": {
     "slide_type": "slide"
    }
   },
   "source": [
    "## Other options\n"
   ]
  },
  {
   "cell_type": "code",
   "execution_count": 16,
   "id": "47901535",
   "metadata": {},
   "outputs": [
    {
     "name": "stdout",
     "output_type": "stream",
     "text": [
      "    Name   Age      Sex\n",
      "0   John  22.0     Male\n",
      "1   Jane  25.0   Female\n",
      "2  Roger  25.0     Male\n",
      "3  Karen  21.0   Female\n"
     ]
    }
   ],
   "source": [
    "import pandas as pd\n",
    "df = pd.read_csv(\"peopleBad.csv\")\n",
    "df.fillna(method='ffill', inplace=True)\n",
    "print(df)"
   ]
  },
  {
   "cell_type": "markdown",
   "id": "2a57b75b",
   "metadata": {
    "slideshow": {
     "slide_type": "slide"
    }
   },
   "source": [
    "## Comments on data cleaning\n",
    "\n",
    "The cleaned data will be loaded into a machine learning algorthim or visualization dashborad.\n",
    "\n",
    "* Additional techniques can be used to deal with missing data, such as linear regression oor clustering (see modules in the second semester.) \n",
    "* Even more sophisticated techniques such as neural networks can be used: https://www.sciencedirect.com/science/article/abs/pii/S0020025522001931  Handling missing data through deep convolutional neural network\n",
    "* It could be that the data cleaning introduces patterns that change the results of the machine learning. \n",
    "\n",
    "You may need to run some experiments with the machne learning to test the cleaning. "
   ]
  },
  {
   "cell_type": "markdown",
   "id": "9dd7c826",
   "metadata": {
    "slideshow": {
     "slide_type": "slide"
    }
   },
   "source": [
    "##  Pandas summary functions\n",
    "\n",
    "There are many useful functions to summarize the data."
   ]
  },
  {
   "cell_type": "code",
   "execution_count": 17,
   "id": "046aa48e",
   "metadata": {},
   "outputs": [
    {
     "name": "stdout",
     "output_type": "stream",
     "text": [
      "  Gender  Height\n",
      "0      m     172\n",
      "1      f     171\n",
      "2      f     169\n",
      "3      m     173\n",
      "4      f     170\n",
      "5      m     175\n",
      "6      m     178\n",
      "        Height\n",
      "Gender        \n",
      "f            3\n",
      "m            4\n",
      "Gender\n",
      "f    170.0\n",
      "m    174.5\n",
      "Name: Height, dtype: float64\n"
     ]
    }
   ],
   "source": [
    "import pandas as pd\n",
    "\n",
    "data = {'Gender':['m','f','f','m','f','m','m'],\n",
    "        'Height':[172,171,169,173,170,175,178]}\n",
    "df = pd.DataFrame(data)\n",
    "print(df)\n",
    "\n",
    "print(df.groupby('Gender').count())\n",
    "print(df.groupby('Gender')['Height'].mean())"
   ]
  },
  {
   "cell_type": "markdown",
   "id": "f6b0e510",
   "metadata": {
    "slideshow": {
     "slide_type": "slide"
    }
   },
   "source": [
    "##  Sorting a dataframe"
   ]
  },
  {
   "cell_type": "code",
   "execution_count": 18,
   "id": "508d85bc",
   "metadata": {},
   "outputs": [
    {
     "name": "stdout",
     "output_type": "stream",
     "text": [
      "  Gender  Height\n",
      "0      m     172\n",
      "1      f     171\n",
      "2      f     169\n",
      "3      m     173\n",
      "4      f     170\n",
      "5      m     175\n",
      "6      m     178\n",
      "Sorted values\n",
      "  Gender  Height\n",
      "2      f     169\n",
      "4      f     170\n",
      "1      f     171\n",
      "0      m     172\n",
      "3      m     173\n",
      "5      m     175\n",
      "6      m     178\n"
     ]
    }
   ],
   "source": [
    "import pandas as pd\n",
    "\n",
    "data = {'Gender':['m','f','f','m','f','m','m'],\n",
    "   'Height':[172,171,169,173,170,175,178]}\n",
    "df = pd.DataFrame(data)\n",
    "print(df)\n",
    "\n",
    "# sorting data frame by name\n",
    "df.sort_values(\"Height\", ascending = True,\n",
    "                 inplace = True)\n",
    "print(\"Sorted values\")\n",
    "print(df)\n"
   ]
  },
  {
   "cell_type": "markdown",
   "id": "c9975bcc",
   "metadata": {
    "slideshow": {
     "slide_type": "slide"
    }
   },
   "source": [
    "We can update the index"
   ]
  },
  {
   "cell_type": "code",
   "execution_count": 19,
   "id": "3b42b99a",
   "metadata": {},
   "outputs": [
    {
     "name": "stdout",
     "output_type": "stream",
     "text": [
      "   index Gender  Height\n",
      "0      2      f     169\n",
      "1      4      f     170\n",
      "2      1      f     171\n",
      "3      0      m     172\n",
      "4      3      m     173\n",
      "5      5      m     175\n",
      "6      6      m     178\n"
     ]
    }
   ],
   "source": [
    "df.reset_index(inplace = True)\n",
    "#df.drop(['index' ],axis=1,inplace=True)\n",
    "print(df)"
   ]
  },
  {
   "cell_type": "markdown",
   "id": "69054699",
   "metadata": {
    "slideshow": {
     "slide_type": "slide"
    }
   },
   "source": [
    "## Plotting from pandas\n",
    "\n",
    "\n",
    "* One way to plot data from pandas would be to extract the data into a list and then plot it using a python library.\n",
    "\n",
    "* Data in a pandas dataframe can be plotted directly.\n",
    "\n",
    "* Many different types of plots are available:  scatter, histogram\n",
    "\n",
    "* The plotting routines uses the matplotlib library.\n",
    "\n",
    "* I find the pandas plotting routines a bit ugly.\n",
    "\n",
    "\n",
    "More information at\n",
    "https://pandas.pydata.org/pandas-docs/stable/getting_started/intro_tutorials/04_plotting.html"
   ]
  },
  {
   "cell_type": "markdown",
   "id": "e6b37050",
   "metadata": {
    "slideshow": {
     "slide_type": "slide"
    }
   },
   "source": [
    "# Plotting from pandas"
   ]
  },
  {
   "cell_type": "code",
   "execution_count": 20,
   "id": "46555703",
   "metadata": {},
   "outputs": [
    {
     "data": {
      "text/html": [
       "<table border=\"1\" class=\"dataframe\">\n",
       "  <thead>\n",
       "    <tr style=\"text-align: right;\">\n",
       "      <th>x</th>\n",
       "      <th>y</th>\n",
       "    </tr>\n",
       "  </thead>\n",
       "  <tbody>\n",
       "    <tr>\n",
       "      <td>1</td>\n",
       "      <td>2.600</td>\n",
       "    </tr>\n",
       "    <tr>\n",
       "      <td>2</td>\n",
       "      <td>3.400</td>\n",
       "    </tr>\n",
       "    <tr>\n",
       "      <td>-3</td>\n",
       "      <td>3.250</td>\n",
       "    </tr>\n",
       "    <tr>\n",
       "      <td>3</td>\n",
       "      <td>2.800</td>\n",
       "    </tr>\n",
       "    <tr>\n",
       "      <td>5</td>\n",
       "      <td>1.750</td>\n",
       "    </tr>\n",
       "    <tr>\n",
       "      <td>7</td>\n",
       "      <td>1.340</td>\n",
       "    </tr>\n",
       "    <tr>\n",
       "      <td>-1</td>\n",
       "      <td>-3.345</td>\n",
       "    </tr>\n",
       "  </tbody>\n",
       "</table>"
      ],
      "text/plain": [
       "<IPython.core.display.HTML object>"
      ]
     },
     "metadata": {},
     "output_type": "display_data"
    },
    {
     "data": {
      "image/png": "[encoded data removed]",
      "text/plain": [
       "<Figure size 432x288 with 1 Axes>"
      ]
     },
     "metadata": {
      "needs_background": "light"
     },
     "output_type": "display_data"
    }
   ],
   "source": [
    "import matplotlib.pyplot as plt\n",
    "import pandas as pd\n",
    "from IPython.display import display, HTML\n",
    "\n",
    "df = pd.DataFrame({'x': [1,2,-3,3,5,7,-1],\n",
    "                   'y' : [2.6,3.4,3.25,2.8,\n",
    "                   1.75,1.34,-3.345]})\n",
    "# https://pandas.pydata.org/pandas-docs/stable/reference/api/pandas.DataFrame.to_html.html\n",
    "display(HTML(df.to_html(index=False)))\n",
    "df.plot(x='x', y='y', kind='scatter')\n",
    "plt.title(\"Plot of data in pandas\")\n",
    "#plt.savefig(\"pandas.png\")\n",
    "plt.show()\n"
   ]
  },
  {
   "cell_type": "markdown",
   "id": "7b124d77",
   "metadata": {
    "slideshow": {
     "slide_type": "slide"
    }
   },
   "source": [
    "## SQL select examples\n",
    "\n",
    "The following cells contain the different SQL selectn examples shown in the lectures. The examples need the\n",
    "followig filess (available on the DLE)\n",
    "\n",
    "*  student_record.db\n",
    "*  house.db\n",
    "*  enrolment.db\n"
   ]
  },
  {
   "cell_type": "code",
   "execution_count": 21,
   "id": "c416debd",
   "metadata": {
    "slideshow": {
     "slide_type": "slide"
    }
   },
   "outputs": [
    {
     "name": "stdout",
     "output_type": "stream",
     "text": [
      "('Smith',)\n",
      "('Jones',)\n",
      "('Brown',)\n",
      "('Jones',)\n",
      "('Brown',)\n"
     ]
    }
   ],
   "source": [
    "#   SQL_grades_one.py\n",
    "\n",
    "import sqlite3\n",
    "connection = sqlite3.connect(\"student_record.db\")\n",
    "cursor = connection.cursor()\n",
    "cursor.execute(\"SELECT ALL last FROM student \") \n",
    "result = cursor.fetchall() \n",
    "for r in result:\n",
    "    print(r)"
   ]
  },
  {
   "cell_type": "code",
   "execution_count": null,
   "id": "2709b45c",
   "metadata": {},
   "outputs": [],
   "source": [
    "#  SQL_grades_two.py\n",
    "\n",
    "import sqlite3\n",
    "connection = sqlite3.connect(\"student_record.db\")\n",
    "cursor = connection.cursor()\n",
    "cursor.execute(\"SELECT DISTINCT last FROM student \") \n",
    "result = cursor.fetchall() \n",
    "for r in result:\n",
    "    print(r)\n"
   ]
  },
  {
   "cell_type": "code",
   "execution_count": null,
   "id": "ca89bd46",
   "metadata": {},
   "outputs": [],
   "source": [
    "# SQL_grades_three.py\n",
    "import sqlite3\n",
    "connection = sqlite3.connect(\"student_record.db\")\n",
    "cursor = connection.cursor()\n",
    "cursor.execute(\"SELECT * FROM grade WHERE mark >= 60 \") \n",
    "result = cursor.fetchall() \n",
    "for r in result:\n",
    "    print(r)"
   ]
  },
  {
   "cell_type": "code",
   "execution_count": null,
   "id": "e0a23e85",
   "metadata": {},
   "outputs": [],
   "source": [
    "#  SQL_grades_four.py\n",
    "\n",
    "import sqlite3\n",
    "connection = sqlite3.connect(\"student_record.db\")\n",
    "cursor = connection.cursor()\n",
    "cursor.execute(\"SELECT DISTINCT ID FROM grade WHERE mark >= 60\") \n",
    "result = cursor.fetchall() \n",
    "for r in result:\n",
    "    print(r)\n"
   ]
  },
  {
   "cell_type": "code",
   "execution_count": null,
   "id": "cb919bea",
   "metadata": {},
   "outputs": [],
   "source": [
    "##  SQL_grades_mult.py\n",
    "\n",
    "\n",
    "import sqlite3\n",
    "connection = sqlite3.connect(\"student_record.db\")\n",
    "cursor = connection.cursor()\n",
    "cursor.execute(\"SELECT first, last, mark FROM student, grade WHERE (student.id = grade.id) AND (mark > 40) \") \n",
    "result = cursor.fetchall() \n",
    "for r in result:\n",
    "    print(r)\n"
   ]
  },
  {
   "cell_type": "code",
   "execution_count": null,
   "id": "3f11623a",
   "metadata": {},
   "outputs": [],
   "source": [
    "#  SQL_grades_mult_one.py\n",
    "\n",
    "\n",
    "import sqlite3\n",
    "connection = sqlite3.connect(\"student_record.db\")\n",
    "cursor = connection.cursor()\n",
    "cursor.execute(\"SELECT * FROM student, grade, modules WHERE student.id = grade.id AND modules.code = grade.code\")\n",
    "result = cursor.fetchall() \n",
    "for r in result:\n",
    "    print(r)"
   ]
  },
  {
   "cell_type": "code",
   "execution_count": null,
   "id": "e289dd10",
   "metadata": {},
   "outputs": [],
   "source": [
    "#  SQL_enrolment_one.py\n",
    "\n",
    "import sqlite3\n",
    "connection = sqlite3.connect(\"enrolment.db\")\n",
    "cursor = connection.cursor()\n",
    "cursor.execute(\"SELECT * FROM student CROSS JOIN enrolment\")\n",
    "result = cursor.fetchall() \n",
    "for r in result:\n",
    "    print(r)\n"
   ]
  },
  {
   "cell_type": "code",
   "execution_count": null,
   "id": "dab45031",
   "metadata": {},
   "outputs": [],
   "source": [
    "#  SQL_enrolment_two.py\n",
    "\n",
    "import sqlite3\n",
    "connection = sqlite3.connect(\"enrolment.db\")\n",
    "cursor = connection.cursor()\n",
    "cursor.execute(\"SELECT * FROM student NATURAL JOIN enrolment\")\n",
    "result = cursor.fetchall() \n",
    "for r in result:\n",
    "    print(r)"
   ]
  },
  {
   "cell_type": "code",
   "execution_count": null,
   "id": "9678b1eb",
   "metadata": {},
   "outputs": [],
   "source": [
    "#   SQL_enrolment_three.py\n",
    "\n",
    "import sqlite3\n",
    "connection = sqlite3.connect(\"enrolment.db\")\n",
    "cursor = connection.cursor()\n",
    "cursor.execute(\"SELECT * FROM Student INNER JOIN Enrolment USING (ID)\")\n",
    "result = cursor.fetchall() \n",
    "for r in result:\n",
    "    print(r)\n",
    "\n",
    "\n"
   ]
  },
  {
   "cell_type": "code",
   "execution_count": null,
   "id": "9757b193",
   "metadata": {},
   "outputs": [],
   "source": [
    "#   SQL_house_one.py\n",
    "\n",
    "import sqlite3\n",
    "connection = sqlite3.connect(\"house.db\")\n",
    "cursor = connection.cursor()\n",
    "cursor.execute(\"SELECT * FROM buyer INNER JOIN property ON price <= budget\")\n",
    "result = cursor.fetchall() \n",
    "for r in result:\n",
    "    print(r)\n"
   ]
  },
  {
   "cell_type": "code",
   "execution_count": null,
   "id": "4d590051",
   "metadata": {},
   "outputs": [],
   "source": []
  }
 ],
 "metadata": {
  "celltoolbar": "Slideshow",
  "kernelspec": {
   "display_name": "Python 3 (ipykernel)",
   "language": "python",
   "name": "python3"
  },
  "language_info": {
   "codemirror_mode": {
    "name": "ipython",
    "version": 3
   },
   "file_extension": ".py",
   "mimetype": "text/x-python",
   "name": "python",
   "nbconvert_exporter": "python",
   "pygments_lexer": "ipython3",
   "version": "3.10.0"
  }
 },
 "nbformat": 4,
 "nbformat_minor": 5
}
