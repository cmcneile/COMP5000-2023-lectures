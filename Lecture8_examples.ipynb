{
 "cells": [
  {
   "cell_type": "markdown",
   "id": "1832d00b",
   "metadata": {
    "slideshow": {
     "slide_type": "slide"
    }
   },
   "source": [
    "# Python examples in lecture 8\n",
    "* This file is a jupyter notebook. To run it you can download it from the DLE and run it on your own machine.\n",
    "* Or you can run it on google collab <https://colab.research.google.com> via your google account. This may be slower than running on your own machine\n",
    "* Information on downloading notebooks from the store to your computer https://youtu.be/1zY7hIj5tWg"
   ]
  },
  {
   "cell_type": "markdown",
   "id": "4cdfdd2c",
   "metadata": {
    "slideshow": {
     "slide_type": "slide"
    }
   },
   "source": [
    "##  Creating a pandas dataframe\n",
    "\n",
    "Creating Pandas Dataframe from lists of lists.\n"
   ]
  },
  {
   "cell_type": "code",
   "execution_count": 3,
   "id": "822d85ea",
   "metadata": {},
   "outputs": [
    {
     "name": "stdout",
     "output_type": "stream",
     "text": [
      "['Nick', 35]\n",
      "   Name  Age\n",
      "0   Tom   23\n",
      "1  Nick   35\n",
      "2  Jane   24\n"
     ]
    }
   ],
   "source": [
    "import pandas as pd \n",
    "data = [['Tom', 23], ['Nick', 35], ['Jane', 24]] \n",
    "print(data[1])\n",
    "df = pd.DataFrame(data, columns = ['Name', 'Age']) \n",
    "print(df)"
   ]
  },
  {
   "cell_type": "markdown",
   "id": "cb31eba9",
   "metadata": {
    "slideshow": {
     "slide_type": "slide"
    }
   },
   "source": [
    "##  Creating a pandas dataframe\n",
    "\n",
    "Creating Pandas Dataframe from list of dictionaries"
   ]
  },
  {
   "cell_type": "code",
   "execution_count": 7,
   "id": "30c6e59e",
   "metadata": {},
   "outputs": [
    {
     "name": "stdout",
     "output_type": "stream",
     "text": [
      "2\n",
      "    a   b   c\n",
      "0   1   2   3\n",
      "1  10  20  30\n"
     ]
    }
   ],
   "source": [
    "import pandas as pd \n",
    "dict1 = {'a': 1, 'b': 2, 'c':3}\n",
    "dict2 =  {'a':10, 'b': 20, 'c': 30}  \n",
    "print(dict1[\"b\"])\n",
    "data = [ dict1, dict2 ]\n",
    "#print(data)\n",
    "df = pd.DataFrame(data) \n",
    "print(df)\n"
   ]
  },
  {
   "cell_type": "markdown",
   "id": "cb246446",
   "metadata": {
    "slideshow": {
     "slide_type": "slide"
    }
   },
   "source": [
    "##  Extracting variables from pandas dataframe\n",
    "\n",
    "We need to be able to get information out of the dataframe\n",
    "\n",
    "* **df['Age']**  where Age is a column name\n",
    "* **df.iloc[1,1]** element in first row and first column\n",
    "* **df.loc[1,'Age']** element in first row and first column=Age\n",
    "* **df['Age'].to\\_numpy()** extract a column to numpy array\n",
    "\n",
    "Note the difference between **iloc** and **loc**.\n"
   ]
  },
  {
   "cell_type": "code",
   "execution_count": 15,
   "id": "b37dfe0f",
   "metadata": {
    "slideshow": {
     "slide_type": "slide"
    }
   },
   "outputs": [
    {
     "name": "stdout",
     "output_type": "stream",
     "text": [
      "   Name  Age\n",
      "0   Tom   23\n",
      "1  Nick   35\n",
      "2  Jane   24\n",
      "df.iloc[1,1] =  35\n",
      "df.loc[1,Age] =  35\n",
      "df['Age'].to_numpy() [23 35 24]\n"
     ]
    }
   ],
   "source": [
    "import pandas as pd \n",
    "data = [['Tom', 23], ['Nick', 35], ['Jane', 24]] \n",
    "df = pd.DataFrame(data, columns = ['Name', 'Age']) \n",
    "print(df)\n",
    "print(\"df.iloc[1,1] = \" , df.iloc[1,1])\n",
    "print(\"df.loc[1,Age] = \" , df.loc[1,'Age'])\n",
    "print(\"df['Age'].to_numpy()\" , df['Age'].to_numpy())"
   ]
  },
  {
   "cell_type": "markdown",
   "id": "aec5b547",
   "metadata": {
    "slideshow": {
     "slide_type": "slide"
    }
   },
   "source": [
    "##  Changing numbers in a pandas dataframe"
   ]
  },
  {
   "cell_type": "code",
   "execution_count": 9,
   "id": "887fc885",
   "metadata": {},
   "outputs": [
    {
     "name": "stdout",
     "output_type": "stream",
     "text": [
      "   Name  Age\n",
      "0   Tom   23\n",
      "1  Nick   56\n",
      "2  Jane   24\n"
     ]
    }
   ],
   "source": [
    "import pandas as pd \n",
    "data = [['Tom', 23], ['Nick', 35], ['Jane', 24]] \n",
    "df = pd.DataFrame(data, columns = ['Name', 'Age']) \n",
    "df.iloc[1,1] = 56\n",
    "print(df)\n"
   ]
  },
  {
   "cell_type": "markdown",
   "id": "362be60e",
   "metadata": {
    "slideshow": {
     "slide_type": "slide"
    }
   },
   "source": [
    "##  Deleting columns from pandas data frame\n",
    "\n",
    "* To remove a column from the dataframe use **drop**\n",
    "\n",
    "* The example blow deletes columns: pop and gdpPercap"
   ]
  },
  {
   "cell_type": "code",
   "execution_count": 11,
   "id": "998239f5",
   "metadata": {},
   "outputs": [
    {
     "name": "stdout",
     "output_type": "stream",
     "text": [
      "       country  year         pop continent  lifeExp   gdpPercap\n",
      "0  Afghanistan  1952   8425333.0      Asia   28.801  779.445314\n",
      "1  Afghanistan  1957   9240934.0      Asia   30.332  820.853030\n",
      "2  Afghanistan  1962  10267083.0      Asia   31.997  853.100710\n",
      "------------------------------\n",
      "       country  year continent  lifeExp\n",
      "0  Afghanistan  1952      Asia   28.801\n",
      "1  Afghanistan  1957      Asia   30.332\n",
      "2  Afghanistan  1962      Asia   31.997\n"
     ]
    }
   ],
   "source": [
    "import pandas as pd\n",
    "gapminder_url='https://bit.ly/2cLzoxH'\n",
    "gapminder = pd.read_csv(gapminder_url)\n",
    "print(gapminder.head(3))\n",
    "# pandas drop a column with drop function\n",
    "gapminder.drop(['pop', 'gdpPercap'],axis=1,inplace=True)\n",
    "print(\"------------------------------\")\n",
    "print(gapminder.head(3))"
   ]
  },
  {
   "cell_type": "markdown",
   "id": "cbfbd0de",
   "metadata": {
    "slideshow": {
     "slide_type": "slide"
    }
   },
   "source": [
    "## Missing values in datasets\n",
    "\n",
    "* Many large data sets have missing values.\n",
    "* Why?  Mistakes, bugs in software.\n",
    "\n",
    "<pre>\n",
    "Name,Age,Sex\n",
    "John, 22, Male\n",
    "Jane, 25, Female\n",
    "Roger,, Male\n",
    "Karen,21, Female\n",
    "</pre>\n",
    "\n",
    "Roger's age is missing\n"
   ]
  },
  {
   "cell_type": "markdown",
   "id": "8a9ac31a",
   "metadata": {
    "slideshow": {
     "slide_type": "slide"
    }
   },
   "source": [
    "##  Dealing with missing values\n",
    "* NaN is a missing value in pandas"
   ]
  },
  {
   "cell_type": "code",
   "execution_count": 14,
   "id": "2d2e12de",
   "metadata": {},
   "outputs": [
    {
     "name": "stdout",
     "output_type": "stream",
     "text": [
      "    Name    Age      Sex\n",
      "0   John     22     Male\n",
      "1   Jane   \"25\"   Female\n",
      "2  Roger    NaN     Male\n",
      "3  Karen     21   Female\n"
     ]
    },
    {
     "ename": "TypeError",
     "evalue": "can only concatenate str (not \"int\") to str",
     "output_type": "error",
     "traceback": [
      "\u001b[0;31m---------------------------------------------------------------------------\u001b[0m",
      "\u001b[0;31mTypeError\u001b[0m                                 Traceback (most recent call last)",
      "Cell \u001b[0;32mIn[14], line 4\u001b[0m\n\u001b[1;32m      2\u001b[0m df \u001b[38;5;241m=\u001b[39m pd\u001b[38;5;241m.\u001b[39mread_csv(\u001b[38;5;124m\"\u001b[39m\u001b[38;5;124mpeopleBad.csv\u001b[39m\u001b[38;5;124m\"\u001b[39m)\n\u001b[1;32m      3\u001b[0m \u001b[38;5;28mprint\u001b[39m(df)\n\u001b[0;32m----> 4\u001b[0m \u001b[38;5;28mprint\u001b[39m(\u001b[38;5;124m\"\u001b[39m\u001b[38;5;124msum of ages = \u001b[39m\u001b[38;5;124m\"\u001b[39m , \u001b[43mdf\u001b[49m\u001b[43m[\u001b[49m\u001b[38;5;124;43m'\u001b[39;49m\u001b[38;5;124;43mAge\u001b[39;49m\u001b[38;5;124;43m'\u001b[39;49m\u001b[43m]\u001b[49m\u001b[38;5;241;43m.\u001b[39;49m\u001b[43msum\u001b[49m\u001b[43m(\u001b[49m\u001b[43m)\u001b[49m)\n",
      "File \u001b[0;32m~/anaconda3/lib/python3.9/site-packages/pandas/core/generic.py:11797\u001b[0m, in \u001b[0;36mNDFrame._add_numeric_operations.<locals>.sum\u001b[0;34m(self, axis, skipna, level, numeric_only, min_count, **kwargs)\u001b[0m\n\u001b[1;32m  11777\u001b[0m \u001b[38;5;129m@doc\u001b[39m(\n\u001b[1;32m  11778\u001b[0m     _num_doc,\n\u001b[1;32m  11779\u001b[0m     desc\u001b[38;5;241m=\u001b[39m\u001b[38;5;124m\"\u001b[39m\u001b[38;5;124mReturn the sum of the values over the requested axis.\u001b[39m\u001b[38;5;130;01m\\n\u001b[39;00m\u001b[38;5;130;01m\\n\u001b[39;00m\u001b[38;5;124m\"\u001b[39m\n\u001b[0;32m   (...)\u001b[0m\n\u001b[1;32m  11795\u001b[0m     \u001b[38;5;241m*\u001b[39m\u001b[38;5;241m*\u001b[39mkwargs,\n\u001b[1;32m  11796\u001b[0m ):\n\u001b[0;32m> 11797\u001b[0m     \u001b[38;5;28;01mreturn\u001b[39;00m \u001b[43mNDFrame\u001b[49m\u001b[38;5;241;43m.\u001b[39;49m\u001b[43msum\u001b[49m\u001b[43m(\u001b[49m\n\u001b[1;32m  11798\u001b[0m \u001b[43m        \u001b[49m\u001b[38;5;28;43mself\u001b[39;49m\u001b[43m,\u001b[49m\u001b[43m \u001b[49m\u001b[43maxis\u001b[49m\u001b[43m,\u001b[49m\u001b[43m \u001b[49m\u001b[43mskipna\u001b[49m\u001b[43m,\u001b[49m\u001b[43m \u001b[49m\u001b[43mlevel\u001b[49m\u001b[43m,\u001b[49m\u001b[43m \u001b[49m\u001b[43mnumeric_only\u001b[49m\u001b[43m,\u001b[49m\u001b[43m \u001b[49m\u001b[43mmin_count\u001b[49m\u001b[43m,\u001b[49m\u001b[43m \u001b[49m\u001b[38;5;241;43m*\u001b[39;49m\u001b[38;5;241;43m*\u001b[39;49m\u001b[43mkwargs\u001b[49m\n\u001b[1;32m  11799\u001b[0m \u001b[43m    \u001b[49m\u001b[43m)\u001b[49m\n",
      "File \u001b[0;32m~/anaconda3/lib/python3.9/site-packages/pandas/core/generic.py:11501\u001b[0m, in \u001b[0;36mNDFrame.sum\u001b[0;34m(self, axis, skipna, level, numeric_only, min_count, **kwargs)\u001b[0m\n\u001b[1;32m  11492\u001b[0m \u001b[38;5;28;01mdef\u001b[39;00m \u001b[38;5;21msum\u001b[39m(\n\u001b[1;32m  11493\u001b[0m     \u001b[38;5;28mself\u001b[39m,\n\u001b[1;32m  11494\u001b[0m     axis: Axis \u001b[38;5;241m|\u001b[39m \u001b[38;5;28;01mNone\u001b[39;00m \u001b[38;5;241m=\u001b[39m \u001b[38;5;28;01mNone\u001b[39;00m,\n\u001b[0;32m   (...)\u001b[0m\n\u001b[1;32m  11499\u001b[0m     \u001b[38;5;241m*\u001b[39m\u001b[38;5;241m*\u001b[39mkwargs,\n\u001b[1;32m  11500\u001b[0m ):\n\u001b[0;32m> 11501\u001b[0m     \u001b[38;5;28;01mreturn\u001b[39;00m \u001b[38;5;28;43mself\u001b[39;49m\u001b[38;5;241;43m.\u001b[39;49m\u001b[43m_min_count_stat_function\u001b[49m\u001b[43m(\u001b[49m\n\u001b[1;32m  11502\u001b[0m \u001b[43m        \u001b[49m\u001b[38;5;124;43m\"\u001b[39;49m\u001b[38;5;124;43msum\u001b[39;49m\u001b[38;5;124;43m\"\u001b[39;49m\u001b[43m,\u001b[49m\u001b[43m \u001b[49m\u001b[43mnanops\u001b[49m\u001b[38;5;241;43m.\u001b[39;49m\u001b[43mnansum\u001b[49m\u001b[43m,\u001b[49m\u001b[43m \u001b[49m\u001b[43maxis\u001b[49m\u001b[43m,\u001b[49m\u001b[43m \u001b[49m\u001b[43mskipna\u001b[49m\u001b[43m,\u001b[49m\u001b[43m \u001b[49m\u001b[43mlevel\u001b[49m\u001b[43m,\u001b[49m\u001b[43m \u001b[49m\u001b[43mnumeric_only\u001b[49m\u001b[43m,\u001b[49m\u001b[43m \u001b[49m\u001b[43mmin_count\u001b[49m\u001b[43m,\u001b[49m\u001b[43m \u001b[49m\u001b[38;5;241;43m*\u001b[39;49m\u001b[38;5;241;43m*\u001b[39;49m\u001b[43mkwargs\u001b[49m\n\u001b[1;32m  11503\u001b[0m \u001b[43m    \u001b[49m\u001b[43m)\u001b[49m\n",
      "File \u001b[0;32m~/anaconda3/lib/python3.9/site-packages/pandas/core/generic.py:11483\u001b[0m, in \u001b[0;36mNDFrame._min_count_stat_function\u001b[0;34m(self, name, func, axis, skipna, level, numeric_only, min_count, **kwargs)\u001b[0m\n\u001b[1;32m  11467\u001b[0m     warnings\u001b[38;5;241m.\u001b[39mwarn(\n\u001b[1;32m  11468\u001b[0m         \u001b[38;5;124m\"\u001b[39m\u001b[38;5;124mUsing the level keyword in DataFrame and Series aggregations is \u001b[39m\u001b[38;5;124m\"\u001b[39m\n\u001b[1;32m  11469\u001b[0m         \u001b[38;5;124m\"\u001b[39m\u001b[38;5;124mdeprecated and will be removed in a future version. Use groupby \u001b[39m\u001b[38;5;124m\"\u001b[39m\n\u001b[0;32m   (...)\u001b[0m\n\u001b[1;32m  11472\u001b[0m         stacklevel\u001b[38;5;241m=\u001b[39mfind_stack_level(),\n\u001b[1;32m  11473\u001b[0m     )\n\u001b[1;32m  11474\u001b[0m     \u001b[38;5;28;01mreturn\u001b[39;00m \u001b[38;5;28mself\u001b[39m\u001b[38;5;241m.\u001b[39m_agg_by_level(\n\u001b[1;32m  11475\u001b[0m         name,\n\u001b[1;32m  11476\u001b[0m         axis\u001b[38;5;241m=\u001b[39maxis,\n\u001b[0;32m   (...)\u001b[0m\n\u001b[1;32m  11480\u001b[0m         numeric_only\u001b[38;5;241m=\u001b[39mnumeric_only,\n\u001b[1;32m  11481\u001b[0m     )\n\u001b[0;32m> 11483\u001b[0m \u001b[38;5;28;01mreturn\u001b[39;00m \u001b[38;5;28;43mself\u001b[39;49m\u001b[38;5;241;43m.\u001b[39;49m\u001b[43m_reduce\u001b[49m\u001b[43m(\u001b[49m\n\u001b[1;32m  11484\u001b[0m \u001b[43m    \u001b[49m\u001b[43mfunc\u001b[49m\u001b[43m,\u001b[49m\n\u001b[1;32m  11485\u001b[0m \u001b[43m    \u001b[49m\u001b[43mname\u001b[49m\u001b[38;5;241;43m=\u001b[39;49m\u001b[43mname\u001b[49m\u001b[43m,\u001b[49m\n\u001b[1;32m  11486\u001b[0m \u001b[43m    \u001b[49m\u001b[43maxis\u001b[49m\u001b[38;5;241;43m=\u001b[39;49m\u001b[43maxis\u001b[49m\u001b[43m,\u001b[49m\n\u001b[1;32m  11487\u001b[0m \u001b[43m    \u001b[49m\u001b[43mskipna\u001b[49m\u001b[38;5;241;43m=\u001b[39;49m\u001b[43mskipna\u001b[49m\u001b[43m,\u001b[49m\n\u001b[1;32m  11488\u001b[0m \u001b[43m    \u001b[49m\u001b[43mnumeric_only\u001b[49m\u001b[38;5;241;43m=\u001b[39;49m\u001b[43mnumeric_only\u001b[49m\u001b[43m,\u001b[49m\n\u001b[1;32m  11489\u001b[0m \u001b[43m    \u001b[49m\u001b[43mmin_count\u001b[49m\u001b[38;5;241;43m=\u001b[39;49m\u001b[43mmin_count\u001b[49m\u001b[43m,\u001b[49m\n\u001b[1;32m  11490\u001b[0m \u001b[43m\u001b[49m\u001b[43m)\u001b[49m\n",
      "File \u001b[0;32m~/anaconda3/lib/python3.9/site-packages/pandas/core/series.py:4816\u001b[0m, in \u001b[0;36mSeries._reduce\u001b[0;34m(self, op, name, axis, skipna, numeric_only, filter_type, **kwds)\u001b[0m\n\u001b[1;32m   4812\u001b[0m     \u001b[38;5;28;01mraise\u001b[39;00m \u001b[38;5;167;01mNotImplementedError\u001b[39;00m(\n\u001b[1;32m   4813\u001b[0m         \u001b[38;5;124mf\u001b[39m\u001b[38;5;124m\"\u001b[39m\u001b[38;5;124mSeries.\u001b[39m\u001b[38;5;132;01m{\u001b[39;00mname\u001b[38;5;132;01m}\u001b[39;00m\u001b[38;5;124m does not implement \u001b[39m\u001b[38;5;132;01m{\u001b[39;00mkwd_name\u001b[38;5;132;01m}\u001b[39;00m\u001b[38;5;124m.\u001b[39m\u001b[38;5;124m\"\u001b[39m\n\u001b[1;32m   4814\u001b[0m     )\n\u001b[1;32m   4815\u001b[0m \u001b[38;5;28;01mwith\u001b[39;00m np\u001b[38;5;241m.\u001b[39merrstate(\u001b[38;5;28mall\u001b[39m\u001b[38;5;241m=\u001b[39m\u001b[38;5;124m\"\u001b[39m\u001b[38;5;124mignore\u001b[39m\u001b[38;5;124m\"\u001b[39m):\n\u001b[0;32m-> 4816\u001b[0m     \u001b[38;5;28;01mreturn\u001b[39;00m \u001b[43mop\u001b[49m\u001b[43m(\u001b[49m\u001b[43mdelegate\u001b[49m\u001b[43m,\u001b[49m\u001b[43m \u001b[49m\u001b[43mskipna\u001b[49m\u001b[38;5;241;43m=\u001b[39;49m\u001b[43mskipna\u001b[49m\u001b[43m,\u001b[49m\u001b[43m \u001b[49m\u001b[38;5;241;43m*\u001b[39;49m\u001b[38;5;241;43m*\u001b[39;49m\u001b[43mkwds\u001b[49m\u001b[43m)\u001b[49m\n",
      "File \u001b[0;32m~/anaconda3/lib/python3.9/site-packages/pandas/core/nanops.py:93\u001b[0m, in \u001b[0;36mdisallow.__call__.<locals>._f\u001b[0;34m(*args, **kwargs)\u001b[0m\n\u001b[1;32m     91\u001b[0m \u001b[38;5;28;01mtry\u001b[39;00m:\n\u001b[1;32m     92\u001b[0m     \u001b[38;5;28;01mwith\u001b[39;00m np\u001b[38;5;241m.\u001b[39merrstate(invalid\u001b[38;5;241m=\u001b[39m\u001b[38;5;124m\"\u001b[39m\u001b[38;5;124mignore\u001b[39m\u001b[38;5;124m\"\u001b[39m):\n\u001b[0;32m---> 93\u001b[0m         \u001b[38;5;28;01mreturn\u001b[39;00m \u001b[43mf\u001b[49m\u001b[43m(\u001b[49m\u001b[38;5;241;43m*\u001b[39;49m\u001b[43margs\u001b[49m\u001b[43m,\u001b[49m\u001b[43m \u001b[49m\u001b[38;5;241;43m*\u001b[39;49m\u001b[38;5;241;43m*\u001b[39;49m\u001b[43mkwargs\u001b[49m\u001b[43m)\u001b[49m\n\u001b[1;32m     94\u001b[0m \u001b[38;5;28;01mexcept\u001b[39;00m \u001b[38;5;167;01mValueError\u001b[39;00m \u001b[38;5;28;01mas\u001b[39;00m e:\n\u001b[1;32m     95\u001b[0m     \u001b[38;5;66;03m# we want to transform an object array\u001b[39;00m\n\u001b[1;32m     96\u001b[0m     \u001b[38;5;66;03m# ValueError message to the more typical TypeError\u001b[39;00m\n\u001b[1;32m     97\u001b[0m     \u001b[38;5;66;03m# e.g. this is normally a disallowed function on\u001b[39;00m\n\u001b[1;32m     98\u001b[0m     \u001b[38;5;66;03m# object arrays that contain strings\u001b[39;00m\n\u001b[1;32m     99\u001b[0m     \u001b[38;5;28;01mif\u001b[39;00m is_object_dtype(args[\u001b[38;5;241m0\u001b[39m]):\n",
      "File \u001b[0;32m~/anaconda3/lib/python3.9/site-packages/pandas/core/nanops.py:418\u001b[0m, in \u001b[0;36m_datetimelike_compat.<locals>.new_func\u001b[0;34m(values, axis, skipna, mask, **kwargs)\u001b[0m\n\u001b[1;32m    415\u001b[0m \u001b[38;5;28;01mif\u001b[39;00m datetimelike \u001b[38;5;129;01mand\u001b[39;00m mask \u001b[38;5;129;01mis\u001b[39;00m \u001b[38;5;28;01mNone\u001b[39;00m:\n\u001b[1;32m    416\u001b[0m     mask \u001b[38;5;241m=\u001b[39m isna(values)\n\u001b[0;32m--> 418\u001b[0m result \u001b[38;5;241m=\u001b[39m \u001b[43mfunc\u001b[49m\u001b[43m(\u001b[49m\u001b[43mvalues\u001b[49m\u001b[43m,\u001b[49m\u001b[43m \u001b[49m\u001b[43maxis\u001b[49m\u001b[38;5;241;43m=\u001b[39;49m\u001b[43maxis\u001b[49m\u001b[43m,\u001b[49m\u001b[43m \u001b[49m\u001b[43mskipna\u001b[49m\u001b[38;5;241;43m=\u001b[39;49m\u001b[43mskipna\u001b[49m\u001b[43m,\u001b[49m\u001b[43m \u001b[49m\u001b[43mmask\u001b[49m\u001b[38;5;241;43m=\u001b[39;49m\u001b[43mmask\u001b[49m\u001b[43m,\u001b[49m\u001b[43m \u001b[49m\u001b[38;5;241;43m*\u001b[39;49m\u001b[38;5;241;43m*\u001b[39;49m\u001b[43mkwargs\u001b[49m\u001b[43m)\u001b[49m\n\u001b[1;32m    420\u001b[0m \u001b[38;5;28;01mif\u001b[39;00m datetimelike:\n\u001b[1;32m    421\u001b[0m     result \u001b[38;5;241m=\u001b[39m _wrap_results(result, orig_values\u001b[38;5;241m.\u001b[39mdtype, fill_value\u001b[38;5;241m=\u001b[39miNaT)\n",
      "File \u001b[0;32m~/anaconda3/lib/python3.9/site-packages/pandas/core/nanops.py:491\u001b[0m, in \u001b[0;36mmaybe_operate_rowwise.<locals>.newfunc\u001b[0;34m(values, axis, **kwargs)\u001b[0m\n\u001b[1;32m    488\u001b[0m         results \u001b[38;5;241m=\u001b[39m [func(x, \u001b[38;5;241m*\u001b[39m\u001b[38;5;241m*\u001b[39mkwargs) \u001b[38;5;28;01mfor\u001b[39;00m x \u001b[38;5;129;01min\u001b[39;00m arrs]\n\u001b[1;32m    489\u001b[0m     \u001b[38;5;28;01mreturn\u001b[39;00m np\u001b[38;5;241m.\u001b[39marray(results)\n\u001b[0;32m--> 491\u001b[0m \u001b[38;5;28;01mreturn\u001b[39;00m \u001b[43mfunc\u001b[49m\u001b[43m(\u001b[49m\u001b[43mvalues\u001b[49m\u001b[43m,\u001b[49m\u001b[43m \u001b[49m\u001b[43maxis\u001b[49m\u001b[38;5;241;43m=\u001b[39;49m\u001b[43maxis\u001b[49m\u001b[43m,\u001b[49m\u001b[43m \u001b[49m\u001b[38;5;241;43m*\u001b[39;49m\u001b[38;5;241;43m*\u001b[39;49m\u001b[43mkwargs\u001b[49m\u001b[43m)\u001b[49m\n",
      "File \u001b[0;32m~/anaconda3/lib/python3.9/site-packages/pandas/core/nanops.py:631\u001b[0m, in \u001b[0;36mnansum\u001b[0;34m(values, axis, skipna, min_count, mask)\u001b[0m\n\u001b[1;32m    628\u001b[0m \u001b[38;5;28;01melif\u001b[39;00m is_timedelta64_dtype(dtype):\n\u001b[1;32m    629\u001b[0m     dtype_sum \u001b[38;5;241m=\u001b[39m np\u001b[38;5;241m.\u001b[39mdtype(np\u001b[38;5;241m.\u001b[39mfloat64)\n\u001b[0;32m--> 631\u001b[0m the_sum \u001b[38;5;241m=\u001b[39m \u001b[43mvalues\u001b[49m\u001b[38;5;241;43m.\u001b[39;49m\u001b[43msum\u001b[49m\u001b[43m(\u001b[49m\u001b[43maxis\u001b[49m\u001b[43m,\u001b[49m\u001b[43m \u001b[49m\u001b[43mdtype\u001b[49m\u001b[38;5;241;43m=\u001b[39;49m\u001b[43mdtype_sum\u001b[49m\u001b[43m)\u001b[49m\n\u001b[1;32m    632\u001b[0m the_sum \u001b[38;5;241m=\u001b[39m _maybe_null_out(the_sum, axis, mask, values\u001b[38;5;241m.\u001b[39mshape, min_count\u001b[38;5;241m=\u001b[39mmin_count)\n\u001b[1;32m    634\u001b[0m \u001b[38;5;28;01mreturn\u001b[39;00m the_sum\n",
      "File \u001b[0;32m~/anaconda3/lib/python3.9/site-packages/numpy/core/_methods.py:49\u001b[0m, in \u001b[0;36m_sum\u001b[0;34m(a, axis, dtype, out, keepdims, initial, where)\u001b[0m\n\u001b[1;32m     47\u001b[0m \u001b[38;5;28;01mdef\u001b[39;00m \u001b[38;5;21m_sum\u001b[39m(a, axis\u001b[38;5;241m=\u001b[39m\u001b[38;5;28;01mNone\u001b[39;00m, dtype\u001b[38;5;241m=\u001b[39m\u001b[38;5;28;01mNone\u001b[39;00m, out\u001b[38;5;241m=\u001b[39m\u001b[38;5;28;01mNone\u001b[39;00m, keepdims\u001b[38;5;241m=\u001b[39m\u001b[38;5;28;01mFalse\u001b[39;00m,\n\u001b[1;32m     48\u001b[0m          initial\u001b[38;5;241m=\u001b[39m_NoValue, where\u001b[38;5;241m=\u001b[39m\u001b[38;5;28;01mTrue\u001b[39;00m):\n\u001b[0;32m---> 49\u001b[0m     \u001b[38;5;28;01mreturn\u001b[39;00m \u001b[43mumr_sum\u001b[49m\u001b[43m(\u001b[49m\u001b[43ma\u001b[49m\u001b[43m,\u001b[49m\u001b[43m \u001b[49m\u001b[43maxis\u001b[49m\u001b[43m,\u001b[49m\u001b[43m \u001b[49m\u001b[43mdtype\u001b[49m\u001b[43m,\u001b[49m\u001b[43m \u001b[49m\u001b[43mout\u001b[49m\u001b[43m,\u001b[49m\u001b[43m \u001b[49m\u001b[43mkeepdims\u001b[49m\u001b[43m,\u001b[49m\u001b[43m \u001b[49m\u001b[43minitial\u001b[49m\u001b[43m,\u001b[49m\u001b[43m \u001b[49m\u001b[43mwhere\u001b[49m\u001b[43m)\u001b[49m\n",
      "\u001b[0;31mTypeError\u001b[0m: can only concatenate str (not \"int\") to str"
     ]
    }
   ],
   "source": [
    "import pandas as pd\n",
    "df = pd.read_csv(\"peopleBad.csv\")\n",
    "print(df)\n",
    "print(\"sum of ages = \" , df['Age'].sum())\n"
   ]
  },
  {
   "cell_type": "markdown",
   "id": "fd241d3a",
   "metadata": {
    "slideshow": {
     "slide_type": "slide"
    }
   },
   "source": [
    "##  Options for dealing with missing values\n",
    "\n",
    "Remove all the missing values. This is a safe option.\n",
    "However the size of the data set is\n",
    "  then smaller.\n",
    "\n",
    "* Set the missing values to 0.\n",
    "\n",
    "* Set the missing values to the mean value of the column.\n",
    "\n",
    "* Set the value to the value above in the row above"
   ]
  },
  {
   "cell_type": "markdown",
   "id": "6384bae2",
   "metadata": {
    "slideshow": {
     "slide_type": "slide"
    }
   },
   "source": [
    "## Remove the missing values\n",
    "\n",
    "* Remove NaN's from the loaded data using **dropna**\n",
    "* Remove Roger row  because of missing age.\n",
    "* We have lost 25% of the data set"
   ]
  },
  {
   "cell_type": "code",
   "execution_count": 17,
   "id": "2e8c237c",
   "metadata": {},
   "outputs": [
    {
     "name": "stdout",
     "output_type": "stream",
     "text": [
      "    Name   Age      Sex\n",
      "0   John  22.0     Male\n",
      "1   Jane  25.0   Female\n",
      "3  Karen  21.0   Female\n"
     ]
    }
   ],
   "source": [
    "import pandas as pd\n",
    "df = pd.read_csv(\"peopleBad.csv\")\n",
    "df.dropna(inplace=True)\n",
    "print(df)"
   ]
  },
  {
   "cell_type": "markdown",
   "id": "8bbcb0e6",
   "metadata": {
    "slideshow": {
     "slide_type": "slide"
    }
   },
   "source": [
    "##  Set the missing values to a constant\n",
    "\n",
    "*  Age of Roger set to 22\n",
    "* Could also set Roger's age to mean age."
   ]
  },
  {
   "cell_type": "code",
   "execution_count": 23,
   "id": "f7881e5d",
   "metadata": {},
   "outputs": [
    {
     "name": "stdout",
     "output_type": "stream",
     "text": [
      "mean =  22.666666666666668\n",
      "    Name        Age      Sex\n",
      "0   John  22.000000     Male\n",
      "1   Jane  25.000000   Female\n",
      "2  Roger  22.666667     Male\n",
      "3  Karen  21.000000   Female\n"
     ]
    }
   ],
   "source": [
    "import pandas as pd\n",
    "df = pd.read_csv(\"peopleBad.csv\")\n",
    "x = df[\"Age\"].mean()\n",
    "print(\"mean = \" , x)\n",
    "df.fillna(df[\"Age\"].mean(), inplace=True)\n",
    "print(df)\n"
   ]
  },
  {
   "cell_type": "markdown",
   "id": "33768b8d",
   "metadata": {
    "slideshow": {
     "slide_type": "slide"
    }
   },
   "source": [
    "## Other options\n"
   ]
  },
  {
   "cell_type": "code",
   "execution_count": 25,
   "id": "47901535",
   "metadata": {},
   "outputs": [
    {
     "name": "stdout",
     "output_type": "stream",
     "text": [
      "    Name   Age      Sex\n",
      "0   John  22.0     Male\n",
      "1   Jane  25.0   Female\n",
      "2  Roger  25.0     Male\n",
      "3  Karen  21.0   Female\n"
     ]
    }
   ],
   "source": [
    "import pandas as pd\n",
    "df = pd.read_csv(\"peopleBad.csv\")\n",
    "df.fillna(method='ffill', inplace=True)\n",
    "print(df)"
   ]
  },
  {
   "cell_type": "markdown",
   "id": "2a57b75b",
   "metadata": {
    "slideshow": {
     "slide_type": "slide"
    }
   },
   "source": [
    "## Comments on data cleaning\n",
    "\n",
    "The cleaned data will be loaded into a machine learning algorthim or visualization dashborad.\n",
    "\n",
    "* Additional techniques can be used to deal with missing data, such as linear regression oor clustering (see modules in the second semester.) \n",
    "* Even more sophisticated techniques such as neural networks can be used: https://www.sciencedirect.com/science/article/abs/pii/S0020025522001931  Handling missing data through deep convolutional neural network\n",
    "* It could be that the data cleaning introduces patterns that change the results of the machine learning. \n",
    "\n",
    "You may need to run some experiments with the machne learning to test the cleaning. "
   ]
  },
  {
   "cell_type": "markdown",
   "id": "9dd7c826",
   "metadata": {
    "slideshow": {
     "slide_type": "slide"
    }
   },
   "source": [
    "##  Pandas summary functions\n",
    "\n",
    "There are many useful functions to summarize the data."
   ]
  },
  {
   "cell_type": "code",
   "execution_count": 22,
   "id": "046aa48e",
   "metadata": {},
   "outputs": [
    {
     "name": "stdout",
     "output_type": "stream",
     "text": [
      "  Gender  Height\n",
      "0      m     172\n",
      "1      f     171\n",
      "2      f     169\n",
      "3      m     173\n",
      "4      f     170\n",
      "5      m     175\n",
      "6      m     178\n",
      "        Height\n",
      "Gender        \n",
      "f            3\n",
      "m            4\n",
      "Gender\n",
      "f    170.0\n",
      "m    174.5\n",
      "Name: Height, dtype: float64\n"
     ]
    }
   ],
   "source": [
    "import pandas as pd\n",
    "\n",
    "data = {'Gender':['m','f','f','m','f','m','m'],\n",
    "        'Height':[172,171,169,173,170,175,178]}\n",
    "df = pd.DataFrame(data)\n",
    "print(df)\n",
    "\n",
    "print(df.groupby('Gender').count())\n",
    "print(df.groupby('Gender')['Height'].mean())"
   ]
  },
  {
   "cell_type": "markdown",
   "id": "f6b0e510",
   "metadata": {
    "slideshow": {
     "slide_type": "slide"
    }
   },
   "source": [
    "##  Sorting a dataframe"
   ]
  },
  {
   "cell_type": "code",
   "execution_count": 30,
   "id": "508d85bc",
   "metadata": {},
   "outputs": [
    {
     "name": "stdout",
     "output_type": "stream",
     "text": [
      "  Gender  Height\n",
      "0      m     172\n",
      "1      f     171\n",
      "2      f     169\n",
      "3      m     173\n",
      "4      f     170\n",
      "5      m     175\n",
      "6      m     178\n",
      "Sorted values\n",
      "  Gender  Height\n",
      "2      f     169\n",
      "4      f     170\n",
      "1      f     171\n",
      "0      m     172\n",
      "3      m     173\n",
      "5      m     175\n",
      "6      m     178\n"
     ]
    }
   ],
   "source": [
    "import pandas as pd\n",
    "\n",
    "data = {'Gender':['m','f','f','m','f','m','m'],\n",
    "   'Height':[172,171,169,173,170,175,178]}\n",
    "df = pd.DataFrame(data)\n",
    "print(df)\n",
    "\n",
    "# sorting data frame by name\n",
    "df.sort_values(\"Height\", ascending = True,\n",
    "                 inplace = True)\n",
    "print(\"Sorted values\")\n",
    "print(df)\n"
   ]
  },
  {
   "cell_type": "markdown",
   "id": "c9975bcc",
   "metadata": {
    "slideshow": {
     "slide_type": "slide"
    }
   },
   "source": [
    "We can update the index"
   ]
  },
  {
   "cell_type": "code",
   "execution_count": 32,
   "id": "3b42b99a",
   "metadata": {},
   "outputs": [
    {
     "name": "stdout",
     "output_type": "stream",
     "text": [
      "   level_0 Gender  Height\n",
      "0        0      f     169\n",
      "1        1      f     170\n",
      "2        2      f     171\n",
      "3        3      m     172\n",
      "4        4      m     173\n",
      "5        5      m     175\n",
      "6        6      m     178\n"
     ]
    }
   ],
   "source": [
    "df.reset_index(inplace = True)\n",
    "df.drop(['index' ],axis=1,inplace=True)\n",
    "print(df)"
   ]
  },
  {
   "cell_type": "markdown",
   "id": "69054699",
   "metadata": {
    "slideshow": {
     "slide_type": "slide"
    }
   },
   "source": [
    "## Plotting from pandas\n",
    "\n",
    "\n",
    "* One way to plot data from pandas would be to extract the data into a list and then plot it using a python library.\n",
    "\n",
    "* Data in a pandas dataframe can be plotted directly.\n",
    "\n",
    "* Many different types of plots are available:  scatter, histogram\n",
    "\n",
    "* The plotting routines uses the matplotlib library.\n",
    "\n",
    "* I find the pandas plotting routines a bit ugly.\n",
    "\n",
    "\n",
    "More information at\n",
    "https://pandas.pydata.org/pandas-docs/stable/getting_started/intro_tutorials/04_plotting.html"
   ]
  },
  {
   "cell_type": "markdown",
   "id": "e6b37050",
   "metadata": {
    "slideshow": {
     "slide_type": "slide"
    }
   },
   "source": [
    "# Plotting from pandas"
   ]
  },
  {
   "cell_type": "code",
   "execution_count": 35,
   "id": "46555703",
   "metadata": {},
   "outputs": [
    {
     "data": {
      "text/html": [
       "<table border=\"1\" class=\"dataframe\">\n",
       "  <thead>\n",
       "    <tr style=\"text-align: right;\">\n",
       "      <th>x</th>\n",
       "      <th>y</th>\n",
       "    </tr>\n",
       "  </thead>\n",
       "  <tbody>\n",
       "    <tr>\n",
       "      <td>1</td>\n",
       "      <td>2.600</td>\n",
       "    </tr>\n",
       "    <tr>\n",
       "      <td>2</td>\n",
       "      <td>3.400</td>\n",
       "    </tr>\n",
       "    <tr>\n",
       "      <td>-3</td>\n",
       "      <td>3.250</td>\n",
       "    </tr>\n",
       "    <tr>\n",
       "      <td>3</td>\n",
       "      <td>2.800</td>\n",
       "    </tr>\n",
       "    <tr>\n",
       "      <td>5</td>\n",
       "      <td>1.750</td>\n",
       "    </tr>\n",
       "    <tr>\n",
       "      <td>7</td>\n",
       "      <td>1.340</td>\n",
       "    </tr>\n",
       "    <tr>\n",
       "      <td>-1</td>\n",
       "      <td>-3.345</td>\n",
       "    </tr>\n",
       "  </tbody>\n",
       "</table>"
      ],
      "text/plain": [
       "<IPython.core.display.HTML object>"
      ]
     },
     "metadata": {},
     "output_type": "display_data"
    },
    {
     "data": {
      "image/png": "[encoded data removed]",
      "text/plain": [
       "<Figure size 640x480 with 1 Axes>"
      ]
     },
     "metadata": {},
     "output_type": "display_data"
    }
   ],
   "source": [
    "import matplotlib.pyplot as plt\n",
    "import pandas as pd\n",
    "from IPython.display import display, HTML\n",
    "\n",
    "df = pd.DataFrame({'x': [1,2,-3,3,5,7,-1],\n",
    "                   'y' : [2.6,3.4,3.25,2.8,\n",
    "                   1.75,1.34,-3.345]})\n",
    "# https://pandas.pydata.org/pandas-docs/stable/reference/api/pandas.DataFrame.to_html.html\n",
    "#print(df)\n",
    "display(HTML(df.to_html(index=False)))\n",
    "df.plot(x='x', y='y', kind='scatter')\n",
    "plt.title(\"Plot of data in pandas\")\n",
    "#plt.savefig(\"pandas.png\")\n",
    "plt.show()\n"
   ]
  },
  {
   "cell_type": "markdown",
   "id": "7b124d77",
   "metadata": {
    "slideshow": {
     "slide_type": "slide"
    }
   },
   "source": [
    "## SQL select examples\n",
    "\n",
    "The following cells contain the different SQL selectn examples shown in the lectures. The examples need the\n",
    "followig filess (available on the DLE)\n",
    "\n",
    "*  student_record.db\n",
    "*  house.db\n",
    "*  enrolment.db\n"
   ]
  },
  {
   "cell_type": "code",
   "execution_count": 26,
   "id": "c416debd",
   "metadata": {
    "slideshow": {
     "slide_type": "slide"
    }
   },
   "outputs": [
    {
     "name": "stdout",
     "output_type": "stream",
     "text": [
      "('Smith',)\n",
      "('Jones',)\n",
      "('Brown',)\n",
      "('Jones',)\n",
      "('Brown',)\n"
     ]
    }
   ],
   "source": [
    "#   SQL_grades_one.py\n",
    "\n",
    "import sqlite3\n",
    "connection = sqlite3.connect(\"student_record.db\")\n",
    "cursor = connection.cursor()\n",
    "cursor.execute(\"SELECT ALL last FROM student \") \n",
    "result = cursor.fetchall() \n",
    "for r in result:\n",
    "    print(r)"
   ]
  },
  {
   "cell_type": "code",
   "execution_count": 27,
   "id": "2709b45c",
   "metadata": {},
   "outputs": [
    {
     "name": "stdout",
     "output_type": "stream",
     "text": [
      "('Smith',)\n",
      "('Jones',)\n",
      "('Brown',)\n"
     ]
    }
   ],
   "source": [
    "#  SQL_grades_two.py\n",
    "\n",
    "import sqlite3\n",
    "connection = sqlite3.connect(\"student_record.db\")\n",
    "cursor = connection.cursor()\n",
    "cursor.execute(\"SELECT DISTINCT last FROM student \") \n",
    "result = cursor.fetchall() \n",
    "for r in result:\n",
    "    print(r)\n"
   ]
  },
  {
   "cell_type": "code",
   "execution_count": 28,
   "id": "ca89bd46",
   "metadata": {},
   "outputs": [
    {
     "name": "stdout",
     "output_type": "stream",
     "text": [
      "('S103', 'DBS', 72)\n",
      "('S104', 'PR1', 68)\n",
      "('S104', 'IAI', 65)\n",
      "('S107', 'PR1', 76)\n",
      "('S107', 'PR2', 60)\n"
     ]
    }
   ],
   "source": [
    "# SQL_grades_three.py\n",
    "import sqlite3\n",
    "connection = sqlite3.connect(\"student_record.db\")\n",
    "cursor = connection.cursor()\n",
    "cursor.execute(\"SELECT * FROM grade WHERE mark >= 60 \") \n",
    "result = cursor.fetchall() \n",
    "for r in result:\n",
    "    print(r)"
   ]
  },
  {
   "cell_type": "code",
   "execution_count": 6,
   "id": "e0a23e85",
   "metadata": {},
   "outputs": [
    {
     "name": "stdout",
     "output_type": "stream",
     "text": [
      "('S103',)\n",
      "('S104',)\n",
      "('S107',)\n"
     ]
    }
   ],
   "source": [
    "#  SQL_grades_four.py\n",
    "\n",
    "import sqlite3\n",
    "connection = sqlite3.connect(\"student_record.db\")\n",
    "cursor = connection.cursor()\n",
    "cursor.execute(\"SELECT DISTINCT ID FROM grade WHERE mark >= 60\") \n",
    "result = cursor.fetchall() \n",
    "for r in result:\n",
    "    print(r)\n"
   ]
  },
  {
   "cell_type": "code",
   "execution_count": 7,
   "id": "cb919bea",
   "metadata": {},
   "outputs": [
    {
     "name": "stdout",
     "output_type": "stream",
     "text": [
      "('John', 'Smith', 72)\n",
      "('John', 'Smith', 58)\n",
      "('Mary', 'Jones', 68)\n",
      "('Mary', 'Jones', 65)\n",
      "('Mark', 'Jones', 43)\n",
      "('John', 'Brown', 76)\n",
      "('John', 'Brown', 60)\n"
     ]
    }
   ],
   "source": [
    "##  SQL_grades_mult.py\n",
    "\n",
    "\n",
    "import sqlite3\n",
    "connection = sqlite3.connect(\"student_record.db\")\n",
    "cursor = connection.cursor()\n",
    "cursor.execute(\"SELECT first, last, mark FROM student, grade WHERE (student.id = grade.id) AND (mark > 40) \") \n",
    "result = cursor.fetchall() \n",
    "for r in result:\n",
    "    print(r)\n"
   ]
  },
  {
   "cell_type": "code",
   "execution_count": 8,
   "id": "3f11623a",
   "metadata": {},
   "outputs": [
    {
     "name": "stdout",
     "output_type": "stream",
     "text": [
      "('S103', 'John', 'Smith', 'S103', 'DBS', 72, 'DBS', 'Database Systems')\n",
      "('S103', 'John', 'Smith', 'S103', 'IAI', 58, 'IAI', 'Intro to AI')\n",
      "('S104', 'Mary', 'Jones', 'S104', 'PR1', 68, 'PR1', 'Programming 1')\n",
      "('S104', 'Mary', 'Jones', 'S104', 'IAI', 65, 'IAI', 'Intro to AI')\n",
      "('S106', 'Mark', 'Jones', 'S106', 'PR2', 43, 'PR2', 'Programming 2')\n",
      "('S107', 'John', 'Brown', 'S107', 'PR1', 76, 'PR1', 'Programming 1')\n",
      "('S107', 'John', 'Brown', 'S107', 'PR2', 60, 'PR2', 'Programming 2')\n",
      "('S107', 'John', 'Brown', 'S107', 'IAI', 35, 'IAI', 'Intro to AI')\n"
     ]
    }
   ],
   "source": [
    "#  SQL_grades_mult_one.py\n",
    "\n",
    "\n",
    "import sqlite3\n",
    "connection = sqlite3.connect(\"student_record.db\")\n",
    "cursor = connection.cursor()\n",
    "cursor.execute(\"SELECT * FROM student, grade, modules WHERE student.id = grade.id AND modules.code = grade.code\")\n",
    "result = cursor.fetchall() \n",
    "for r in result:\n",
    "    print(r)"
   ]
  },
  {
   "cell_type": "code",
   "execution_count": 9,
   "id": "e289dd10",
   "metadata": {},
   "outputs": [
    {
     "name": "stdout",
     "output_type": "stream",
     "text": [
      "('123', 'John', '123', 'DBS')\n",
      "('123', 'John', '124', 'PRG')\n",
      "('123', 'John', '124', 'DBS')\n",
      "('123', 'John', '126', 'PRG')\n",
      "('124', 'Mary', '123', 'DBS')\n",
      "('124', 'Mary', '124', 'PRG')\n",
      "('124', 'Mary', '124', 'DBS')\n",
      "('124', 'Mary', '126', 'PRG')\n",
      "('125', 'Mark', '123', 'DBS')\n",
      "('125', 'Mark', '124', 'PRG')\n",
      "('125', 'Mark', '124', 'DBS')\n",
      "('125', 'Mark', '126', 'PRG')\n",
      "('126', 'Jane', '123', 'DBS')\n",
      "('126', 'Jane', '124', 'PRG')\n",
      "('126', 'Jane', '124', 'DBS')\n",
      "('126', 'Jane', '126', 'PRG')\n"
     ]
    }
   ],
   "source": [
    "#  SQL_enrolment_one.py\n",
    "\n",
    "import sqlite3\n",
    "connection = sqlite3.connect(\"enrolment.db\")\n",
    "cursor = connection.cursor()\n",
    "cursor.execute(\"SELECT * FROM student CROSS JOIN enrolment\")\n",
    "result = cursor.fetchall() \n",
    "for r in result:\n",
    "    print(r)\n"
   ]
  },
  {
   "cell_type": "code",
   "execution_count": 10,
   "id": "dab45031",
   "metadata": {},
   "outputs": [
    {
     "name": "stdout",
     "output_type": "stream",
     "text": [
      "('123', 'John', 'DBS')\n",
      "('124', 'Mary', 'PRG')\n",
      "('124', 'Mary', 'DBS')\n",
      "('126', 'Jane', 'PRG')\n"
     ]
    }
   ],
   "source": [
    "#  SQL_enrolment_two.py\n",
    "\n",
    "import sqlite3\n",
    "connection = sqlite3.connect(\"enrolment.db\")\n",
    "cursor = connection.cursor()\n",
    "cursor.execute(\"SELECT * FROM student NATURAL JOIN enrolment\")\n",
    "result = cursor.fetchall() \n",
    "for r in result:\n",
    "    print(r)"
   ]
  },
  {
   "cell_type": "code",
   "execution_count": 11,
   "id": "9678b1eb",
   "metadata": {},
   "outputs": [
    {
     "name": "stdout",
     "output_type": "stream",
     "text": [
      "('123', 'John', 'DBS')\n",
      "('124', 'Mary', 'PRG')\n",
      "('124', 'Mary', 'DBS')\n",
      "('126', 'Jane', 'PRG')\n"
     ]
    }
   ],
   "source": [
    "#   SQL_enrolment_three.py\n",
    "\n",
    "import sqlite3\n",
    "connection = sqlite3.connect(\"enrolment.db\")\n",
    "cursor = connection.cursor()\n",
    "cursor.execute(\"SELECT * FROM Student INNER JOIN Enrolment USING (ID)\")\n",
    "result = cursor.fetchall() \n",
    "for r in result:\n",
    "    print(r)\n",
    "\n",
    "\n"
   ]
  },
  {
   "cell_type": "code",
   "execution_count": 12,
   "id": "9757b193",
   "metadata": {},
   "outputs": [
    {
     "name": "stdout",
     "output_type": "stream",
     "text": [
      "('Smith', 100000, '15 High St', 85000)\n",
      "('Jones', 150000, '15 High St', 85000)\n",
      "('Jones', 150000, '12 Queen St', 125000)\n"
     ]
    }
   ],
   "source": [
    "#   SQL_house_one.py\n",
    "\n",
    "import sqlite3\n",
    "connection = sqlite3.connect(\"house.db\")\n",
    "cursor = connection.cursor()\n",
    "cursor.execute(\"SELECT * FROM buyer INNER JOIN property ON price <= budget\")\n",
    "result = cursor.fetchall() \n",
    "for r in result:\n",
    "    print(r)\n"
   ]
  },
  {
   "cell_type": "code",
   "execution_count": null,
   "id": "4d590051",
   "metadata": {},
   "outputs": [],
   "source": []
  },
  {
   "cell_type": "code",
   "execution_count": null,
   "id": "e733ad06",
   "metadata": {},
   "outputs": [],
   "source": []
  },
  {
   "cell_type": "code",
   "execution_count": null,
   "id": "b0a24a93",
   "metadata": {},
   "outputs": [],
   "source": []
  }
 ],
 "metadata": {
  "celltoolbar": "Slideshow",
  "kernelspec": {
   "display_name": "Python 3 (ipykernel)",
   "language": "python",
   "name": "python3"
  },
  "language_info": {
   "codemirror_mode": {
    "name": "ipython",
    "version": 3
   },
   "file_extension": ".py",
   "mimetype": "text/x-python",
   "name": "python",
   "nbconvert_exporter": "python",
   "pygments_lexer": "ipython3",
   "version": "3.9.17"
  }
 },
 "nbformat": 4,
 "nbformat_minor": 5
}
