{
 "cells": [
  {
   "cell_type": "markdown",
   "id": "1832d00b",
   "metadata": {
    "slideshow": {
     "slide_type": "slide"
    }
   },
   "source": [
    "# Python examples in lecture 7\n",
    "* This file is a jupyter notebook. To run it you can download it from the DLE and run it on your own machine.\n",
    "* Or you can run it on google collab <https://colab.research.google.com> via your google account. This may be slower than running on your own machine\n",
    "* Information on downloading notebooks from the store to your computer https://youtu.be/1zY7hIj5tWg"
   ]
  },
  {
   "cell_type": "markdown",
   "id": "4a01ef54",
   "metadata": {
    "slideshow": {
     "slide_type": "slide"
    }
   },
   "source": [
    "## Overview of collecting variables\n",
    "\n",
    "* We have used python lists to store numbers and other variables\n",
    "* Also there are tuples\n",
    "* Lists can store any **type** of python variable"
   ]
  },
  {
   "cell_type": "code",
   "execution_count": 2,
   "id": "822d85ea",
   "metadata": {},
   "outputs": [
    {
     "name": "stdout",
     "output_type": "stream",
     "text": [
      "hello 1.2\n"
     ]
    }
   ],
   "source": [
    "y = [ 2, \"hello\" ]\n",
    "x = [  1.0 , 2.0 , 3.0 ]  #  list\n",
    "xt = (1.2 , 2.4, 5.6 )    #  tuple\n",
    "\n",
    "print(y[1], xt[0])"
   ]
  },
  {
   "cell_type": "markdown",
   "id": "1b29efb3",
   "metadata": {},
   "source": [
    "There are some applications (particulary in science) that only use lists of numbers. For example value of bitcoin."
   ]
  },
  {
   "cell_type": "markdown",
   "id": "8dd3aefe",
   "metadata": {
    "slideshow": {
     "slide_type": "slide"
    }
   },
   "source": [
    "## Introduction to numpy\n",
    "There is a specialized module **numpy** to deal with vectors and arrays of numbers.\n",
    "\n",
    "Powerful N-dimensional arrays for **numbers**\n",
    "  \n",
    "* Using numpy is faster than using python lists. Some benchmarks studies have claimed that using numpy can speed up a python codes by factors of 100  https://towardsdatascience.com/how-fast-numpy-really-is-e9111df44347\n",
    "* There are functions (eg. mean), which can operate directly on the numpy arrays.\n",
    "* Numpy arrays are the building blocks of many higher level modules, which are used for machine learning.\n",
    "* See https://numpy.org/ for more detail.\n",
    "\n"
   ]
  },
  {
   "cell_type": "markdown",
   "id": "17c6c14a",
   "metadata": {
    "slideshow": {
     "slide_type": "slide"
    }
   },
   "source": [
    "## Basic example of numpy array\n",
    "\n",
    "* Below is an example of creating a numpy array\n",
    "* Also see some examples of functions operating on the numpy arrays"
   ]
  },
  {
   "cell_type": "code",
   "execution_count": 2,
   "id": "c996ea08",
   "metadata": {},
   "outputs": [
    {
     "name": "stdout",
     "output_type": "stream",
     "text": [
      "v =   [1. 2. 3.]\n",
      "sum v =  6.0\n",
      "mean v =  2.0\n"
     ]
    }
   ],
   "source": [
    "import numpy as np\n",
    "v =  np.array([1.0, 2.0, 3.0] )\n",
    "print(\"v =  \", v)\n",
    "print(\"sum v = \" , v.sum())\n",
    "print(\"mean v = \" , v.mean())"
   ]
  },
  {
   "cell_type": "markdown",
   "id": "6e01af89",
   "metadata": {
    "slideshow": {
     "slide_type": "slide"
    }
   },
   "source": [
    "## Indexing and slicing numpy\n",
    "* Often you need to extract part of the vector (to remove data)\n",
    "* The colon notation (:) allows you to select a range of the array."
   ]
  },
  {
   "cell_type": "code",
   "execution_count": 2,
   "id": "b42f715c",
   "metadata": {},
   "outputs": [
    {
     "name": "stdout",
     "output_type": "stream",
     "text": [
      "v =  [ 1.  2.  3.  4.  5.  6.  7.  8.  9. 10.]\n",
      "v[1] =  2.0\n",
      "v[-1] =  10.0\n",
      "v[1:3] =  [2. 3.]\n",
      "v[:4] =  [1. 2. 3. 4.]\n"
     ]
    }
   ],
   "source": [
    "import numpy as np\n",
    "v=np.array([1.0,2.0,3.0,4.0,5.0,6.0,7.0,8.0,9.0,10.])\n",
    "print(\"v = \" , v)\n",
    "print(\"v[1] = \", v[1])\n",
    "print(\"v[-1] = \", v[-1])\n",
    "print(\"v[1:3] = \" , v[1:3])\n",
    "print(\"v[:4] = \" , v[:4])"
   ]
  },
  {
   "cell_type": "markdown",
   "id": "bc5f33c5",
   "metadata": {
    "slideshow": {
     "slide_type": "slide"
    }
   },
   "source": [
    "##  Vector operations with numpy\n",
    "Numpy arrays can be used to do mathematics operations"
   ]
  },
  {
   "cell_type": "code",
   "execution_count": 3,
   "id": "e063459d",
   "metadata": {},
   "outputs": [
    {
     "name": "stdout",
     "output_type": "stream",
     "text": [
      "x= [1 5 6]\n",
      "y= [1 1 2]\n",
      "z= [2.08060461 6.08060461 5.16770633]\n"
     ]
    }
   ],
   "source": [
    "import numpy as np\n",
    "x = np.array([1, 5, 6])\n",
    "print(\"x=\", x)\n",
    "y = np.array([1, 1, 2])\n",
    "print(\"y=\", y)\n",
    "z = x + 2*np.cos(y)\n",
    "print(\"z=\", z)"
   ]
  },
  {
   "cell_type": "code",
   "execution_count": 9,
   "id": "eeb6774b",
   "metadata": {},
   "outputs": [
    {
     "name": "stdout",
     "output_type": "stream",
     "text": [
      "[1, 5, 6, 1, 1, 2]\n"
     ]
    }
   ],
   "source": [
    "# compare to what happens with lists, + combines the two lists\n",
    "x = [1, 5, 6]\n",
    "y = [1, 1, 2]\n",
    "print(x+y)"
   ]
  },
  {
   "cell_type": "markdown",
   "id": "3762d3e7",
   "metadata": {
    "slideshow": {
     "slide_type": "slide"
    }
   },
   "source": [
    "##  Class numpy\n",
    "\n",
    "* The bottom level of numpy is the class **ndarray**\n",
    "* See https://numpy.org/doc/stable/reference/generated/numpy.ndarray.html for more information."
   ]
  },
  {
   "cell_type": "code",
   "execution_count": 4,
   "id": "153568ca",
   "metadata": {},
   "outputs": [
    {
     "name": "stdout",
     "output_type": "stream",
     "text": [
      "<class 'numpy.ndarray'>\n",
      "<class 'int'>\n",
      "(3,)\n"
     ]
    }
   ],
   "source": [
    "import numpy as np\n",
    "a = np.array([1, 2, 3]) \n",
    "print(type(a))\n",
    "print(type(1))\n",
    "print(a.shape) "
   ]
  },
  {
   "cell_type": "markdown",
   "id": "25279908",
   "metadata": {},
   "source": [
    "* **ndim**  Number of array dimensions\n",
    "* **shape** Tuple of array dimensions.\n",
    "* **size**  Number of elements in the array.\n",
    "* **dtype** Data-type of the array’s elements.\n",
    "\n",
    "And many others."
   ]
  },
  {
   "cell_type": "markdown",
   "id": "b23aecd5",
   "metadata": {
    "slideshow": {
     "slide_type": "slide"
    }
   },
   "source": [
    "##  Methods of ndarray"
   ]
  },
  {
   "cell_type": "code",
   "execution_count": 5,
   "id": "093ccc66",
   "metadata": {},
   "outputs": [
    {
     "name": "stdout",
     "output_type": "stream",
     "text": [
      "sum v =  6.0\n"
     ]
    }
   ],
   "source": [
    "import numpy as np\n",
    "v =  np.array([1.0, 2.0, 3.0] )\n",
    "print(\"sum v = \" , v.sum())"
   ]
  },
  {
   "cell_type": "markdown",
   "id": "f7045b10",
   "metadata": {},
   "source": [
    "* **sum()**  Return the sum of the array elements.\n",
    "* **mean()**  Returns the average of the array elements.\n",
    "* **sort()**  Sorts the array elements.\n",
    "* **std()**   Returns the standard deviation of the array elements\n",
    "\n",
    "And many others."
   ]
  },
  {
   "cell_type": "markdown",
   "id": "825c0db9",
   "metadata": {
    "slideshow": {
     "slide_type": "slide"
    }
   },
   "source": [
    "##  Multi-dimensional arrays\n",
    "* Potential applications:  map or image"
   ]
  },
  {
   "cell_type": "code",
   "execution_count": 6,
   "id": "95103f96",
   "metadata": {
    "slideshow": {
     "slide_type": "-"
    }
   },
   "outputs": [
    {
     "name": "stdout",
     "output_type": "stream",
     "text": [
      "[[2 3]\n",
      " [1 0]]\n",
      "x.shape =  2\n"
     ]
    }
   ],
   "source": [
    "import numpy as np\n",
    "x = np.array([[2, 3] , [1, 0]])\n",
    "print(x)\n",
    "#print(\"x[0,0] = \" , x[0,0])\n",
    "#print(\"x[0,1] = \" , x[0,1])\n",
    "print(\"x.shape = \" , x.ndim )"
   ]
  },
  {
   "cell_type": "markdown",
   "id": "7b8d6a5a",
   "metadata": {
    "slideshow": {
     "slide_type": "slide"
    }
   },
   "source": [
    "##  Images\n",
    "\n",
    "Images are just 2D numpy arrays in python"
   ]
  },
  {
   "cell_type": "code",
   "execution_count": 5,
   "id": "05ad9fb9",
   "metadata": {},
   "outputs": [
    {
     "name": "stdout",
     "output_type": "stream",
     "text": [
      "<class 'numpy.ndarray'>\n",
      "(992, 1440)\n",
      "[[  0   0   0 ...  33 255   1]\n",
      " [  0   0   0 ...  46 249   4]\n",
      " [  0   0   0 ...  33 243   3]\n",
      " ...\n",
      " [253  11   0 ...   4 250   0]\n",
      " [253   1   3 ...   2 254   0]\n",
      " [255   0   3 ...   4 251   3]]\n"
     ]
    },
    {
     "data": {
      "image/png": "[encoded data removed]",
      "text/plain": [
       "<Figure size 432x288 with 2 Axes>"
      ]
     },
     "metadata": {
      "needs_background": "light"
     },
     "output_type": "display_data"
    }
   ],
   "source": [
    "# This image is also available on the DLE\n",
    "ff = \"NORMAL2-IM-1400-0001.jpeg\"\n",
    "import matplotlib.pyplot as plt\n",
    "import matplotlib.image as mpimg\n",
    "img = mpimg.imread(ff)\n",
    "print(type(img))\n",
    "print(img.shape)\n",
    "print(img)\n",
    "imgplot = plt.imshow(img[0:400,0:400])\n",
    "plt.colorbar()\n",
    "plt.show()\n"
   ]
  },
  {
   "cell_type": "markdown",
   "id": "cf21687a",
   "metadata": {
    "slideshow": {
     "slide_type": "slide"
    }
   },
   "source": [
    "## Numpy is the building block of other modules\n",
    "\n",
    "* **panda** a dataframe module (good for working with spreadsheet like data) See  later.\n",
    "\n",
    "* **SciPy** Module of scientific routines (eg. Optimization, integration)    (https://www.scipy.org/)\n",
    "\n",
    "* **statsmodels** Module for statistics  https://www.statsmodels.org/stable/index.html\n",
    "\n",
    "* **scikit-learn**  machine learning library  https://scikit-learn.org/stable/\n",
    "\n",
    "* **keras**  Deep learning library https://keras.io/\n"
   ]
  },
  {
   "cell_type": "markdown",
   "id": "1ad2b303",
   "metadata": {
    "slideshow": {
     "slide_type": "slide"
    }
   },
   "source": [
    "## Numpy versus python lists\n",
    "\n",
    "Advantges of Numpy\n",
    "* Using Numpy arrays is typically much faster than using python lists\n",
    "* Using Numpy arrays makes it easier to use specialized hardware such as Graphical Processing Units (GPU). See https://towardsdatascience.com/how-fast-numpy-really-is-e9111df44347 \n",
    "* Numpy require less memory than python lists.\n",
    "* Numpy has vectorized functions that are faster and require less code\n",
    "\n",
    "Advantages of python lists\n",
    "* Python lists can store a mixture of strings and numbers, so they are more flexible.\n"
   ]
  },
  {
   "cell_type": "markdown",
   "id": "196942f3",
   "metadata": {
    "slideshow": {
     "slide_type": "slide"
    }
   },
   "source": [
    "##  Introduction to pandas\n",
    "\n",
    "The name is derived from the term \"panel data\".\n",
    "\n",
    "* A fast and efficient DataFrame object for data manipulation with integrated indexing;\n",
    "\n",
    "* Essentially it is a way to work with tables of data.\n",
    "\n",
    "* Pandas is very good for working with data read from spreadsheets and time series.\n",
    "\n",
    "* Pandas is very similar to a dataframe in R\n",
    "\n",
    "* The development of pandas started in 2008. Developer Wes McKinney started working on pandas while at AQR Capital Management.\n",
    "\n",
    "* Main web page for pandas: https://pandas.pydata.org/\n",
    "\n",
    "\n",
    "It is a very big module.\n",
    "\n"
   ]
  },
  {
   "cell_type": "markdown",
   "id": "cc7e4d62",
   "metadata": {
    "slideshow": {
     "slide_type": "slide"
    }
   },
   "source": [
    "#  Using pandas to read a csv file\n",
    "\n",
    "* Pandas is a good way to read spreadsheet files.\n",
    "* The python in the cell below reads in the file **people.csv**"
   ]
  },
  {
   "cell_type": "code",
   "execution_count": 11,
   "id": "8561a947",
   "metadata": {},
   "outputs": [
    {
     "name": "stdout",
     "output_type": "stream",
     "text": [
      "    Name  Age      Sex\n",
      "0   John   22     Male\n",
      "1   Jane   25   Female\n",
      "2  Roger   20     Male\n",
      "3  Karen   21   Female\n"
     ]
    }
   ],
   "source": [
    "import pandas as pd\n",
    "df = pd.read_csv(\"people.csv\")\n",
    "print(df)"
   ]
  },
  {
   "cell_type": "markdown",
   "id": "578820d9",
   "metadata": {
    "slideshow": {
     "slide_type": "slide"
    }
   },
   "source": [
    "##  Series data structure\n",
    "\n",
    "* To access columns we use df['Name'] to get the column called Name\n",
    "* df['Name'] is a **Series** -- a key data structure in pandas"
   ]
  },
  {
   "cell_type": "code",
   "execution_count": 12,
   "id": "7d01a9f9",
   "metadata": {},
   "outputs": [
    {
     "name": "stdout",
     "output_type": "stream",
     "text": [
      "0     John\n",
      "1     Jane\n",
      "2    Roger\n",
      "3    Karen\n",
      "Name: Name, dtype: object\n"
     ]
    }
   ],
   "source": [
    "import pandas as pd\n",
    "df = pd.read_csv(\"people.csv\")\n",
    "print(df['Name'])"
   ]
  },
  {
   "cell_type": "markdown",
   "id": "737e5ae6",
   "metadata": {
    "slideshow": {
     "slide_type": "slide"
    }
   },
   "source": [
    "##  Pandas statistical summary methods"
   ]
  },
  {
   "cell_type": "code",
   "execution_count": 13,
   "id": "ed3b0560",
   "metadata": {},
   "outputs": [
    {
     "name": "stdout",
     "output_type": "stream",
     "text": [
      "Index(['Name', 'Age', 'Sex'], dtype='object')\n",
      "             Age\n",
      "count   4.000000\n",
      "mean   22.000000\n",
      "std     2.160247\n",
      "min    20.000000\n",
      "25%    20.750000\n",
      "50%    21.500000\n",
      "75%    22.750000\n",
      "max    25.000000\n",
      "Mean age =  22.0\n",
      "    Name  Age      Sex\n",
      "2  Roger   20     Male\n",
      "3  Karen   21   Female\n"
     ]
    }
   ],
   "source": [
    "import pandas as pd\n",
    "df = pd.read_csv(\"people.csv\")\n",
    "print(df.columns)\n",
    "print(df.describe())\n",
    "print(\"Mean age = \" , df['Age'].mean())\n",
    "print(df.tail(2))"
   ]
  },
  {
   "cell_type": "markdown",
   "id": "d427a26e",
   "metadata": {
    "slideshow": {
     "slide_type": "slide"
    }
   },
   "source": [
    "##  Pandas and selection\n",
    "* To select the people in the people.csv fle with an age greater than 21"
   ]
  },
  {
   "cell_type": "code",
   "execution_count": 16,
   "id": "0d73d3b3",
   "metadata": {},
   "outputs": [
    {
     "name": "stdout",
     "output_type": "stream",
     "text": [
      "   Name  Age      Sex\n",
      "0  John   22     Male\n",
      "1  Jane   25   Female\n"
     ]
    }
   ],
   "source": [
    "import pandas as pd\n",
    "df_ = pd.read_csv(\"people.csv\")\n",
    "df = df_[df_['Age']>21]\n",
    "print(df)\n"
   ]
  },
  {
   "cell_type": "markdown",
   "id": "6834dc21",
   "metadata": {
    "slideshow": {
     "slide_type": "slide"
    }
   },
   "source": [
    "## Pandas can do a lot\n",
    "\n",
    "pandas is one of the standard python libraries to do data science\n",
    "\n",
    "* Pandas is good for cleaning data up. What happens if there are  missing data values.\n",
    "\n",
    "* It is easy to delete and add columns.\n",
    "\n",
    "* I have started the examples from loading from a spreadsheet, but there are other ways to create dataframes.\n",
    "\n",
    "* It is easy to plot columns of the dataframe.\n",
    "\n",
    "* It is easy to read and write data frames to databases\n",
    "\n",
    "I know some people who think pandas is to big.\n",
    "\n",
    "\n"
   ]
  },
  {
   "cell_type": "code",
   "execution_count": null,
   "id": "cc2fa5a9",
   "metadata": {},
   "outputs": [],
   "source": []
  }
 ],
 "metadata": {
  "celltoolbar": "Slideshow",
  "kernelspec": {
   "display_name": "Python 3 (ipykernel)",
   "language": "python",
   "name": "python3"
  },
  "language_info": {
   "codemirror_mode": {
    "name": "ipython",
    "version": 3
   },
   "file_extension": ".py",
   "mimetype": "text/x-python",
   "name": "python",
   "nbconvert_exporter": "python",
   "pygments_lexer": "ipython3",
   "version": "3.10.0"
  }
 },
 "nbformat": 4,
 "nbformat_minor": 5
}
