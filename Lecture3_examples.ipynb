{
 "cells": [
  {
   "cell_type": "markdown",
   "id": "1832d00b",
   "metadata": {
    "slideshow": {
     "slide_type": "slide"
    }
   },
   "source": [
    "# Python examples in lecture 3\n",
    "* This file is a jupyter notebook. To run it you can download it from the DLE and run it on your own machine.\n",
    "* Or you can run it on google collab <https://colab.research.google.com> via your google account. This may be slower than running on your own machine\n",
    "* Information on downloading notebooks from the store to your computer https://youtu.be/1zY7hIj5tWg"
   ]
  },
  {
   "cell_type": "markdown",
   "id": "b9f27fdb",
   "metadata": {
    "slideshow": {
     "slide_type": "slide"
    }
   },
   "source": [
    "##  Functions in python\n",
    "\n",
    "* Functions are an important way to organize python code\n",
    "* Functions collect together python code that is used in many places in the notebook.\n",
    "* Functions allow **code reuse **\n",
    "* For more information see chapter in the book Python for everyone: https://www.py4e.com/html3/04-functions\n",
    "* See the information here  https://www.tutorialspoint.com/python/python_functions.htm"
   ]
  },
  {
   "cell_type": "markdown",
   "id": "5e90796a",
   "metadata": {
    "slideshow": {
     "slide_type": "slide"
    }
   },
   "source": [
    "## Functions in python\n",
    "\n",
    "* The indentation of white space is used to control the code inside loops or functions."
   ]
  },
  {
   "cell_type": "code",
   "execution_count": 1,
   "id": "a316c248",
   "metadata": {},
   "outputs": [
    {
     "name": "stdout",
     "output_type": "stream",
     "text": [
      "Welcome \n",
      "again\n"
     ]
    }
   ],
   "source": [
    "def welcome():\n",
    "    print(\"Welcome \")\n",
    "    print(\"again\")\n",
    "    \n",
    "welcome()\n"
   ]
  },
  {
   "cell_type": "markdown",
   "id": "ddee74b9",
   "metadata": {},
   "source": [
    "### Functions can have arguments"
   ]
  },
  {
   "cell_type": "code",
   "execution_count": 2,
   "id": "94378e3b",
   "metadata": {},
   "outputs": [
    {
     "name": "stdout",
     "output_type": "stream",
     "text": [
      "Welcome  Craig\n",
      "Welcome  Jane\n"
     ]
    }
   ],
   "source": [
    "def welcome(name):\n",
    "    print(\"Welcome \" , name)\n",
    "\n",
    "welcome(\"Craig\")\n",
    "welcome(\"Jane\")"
   ]
  },
  {
   "cell_type": "code",
   "execution_count": null,
   "id": "0f9facc9",
   "metadata": {},
   "outputs": [],
   "source": []
  },
  {
   "cell_type": "markdown",
   "id": "90830e6b",
   "metadata": {
    "slideshow": {
     "slide_type": "slide"
    }
   },
   "source": [
    "## Why functions are useful \n",
    "    \n",
    "* A function collects a group of statements, which makes your program easier to read and debug.\n",
    "* Functions eliminate repetitive code, thus making the code smaller.\n",
    "* Dividing a long program into functions allows you to debug the parts one at a time and then assemble them into a working whole.\n",
    "* Well-designed functions are often useful for many programs. A function can be **reused** in many different programs.\n",
    "* An important principle is DRY (Don't repeat yourself) https://en.wikipedia.org/wiki/Don%27t_repeat_yourself"
   ]
  },
  {
   "cell_type": "code",
   "execution_count": 3,
   "id": "0e82a95f",
   "metadata": {
    "slideshow": {
     "slide_type": "slide"
    }
   },
   "outputs": [
    {
     "name": "stdout",
     "output_type": "stream",
     "text": [
      "Welcome  Craig\n",
      "Welcome  Jane\n",
      "Welcome Craig\n",
      "Welcome Jane\n"
     ]
    }
   ],
   "source": [
    "def welcome(name):\n",
    "    print(\"Welcome \" , name)\n",
    "\n",
    "welcome(\"Craig\")\n",
    "welcome(\"Jane\")\n",
    "\n",
    "##  This code does the same, but the code is less  flexible\n",
    "\n",
    "print(\"Welcome Craig\")\n",
    "print(\"Welcome Jane\")"
   ]
  },
  {
   "cell_type": "code",
   "execution_count": 4,
   "id": "1c2c0e29",
   "metadata": {
    "slideshow": {
     "slide_type": "slide"
    }
   },
   "outputs": [
    {
     "name": "stdout",
     "output_type": "stream",
     "text": [
      "[1, 2]\n"
     ]
    }
   ],
   "source": [
    "def add_one(x):\n",
    "    return [x, x+1]\n",
    "\n",
    "print(add_one(1))"
   ]
  },
  {
   "cell_type": "markdown",
   "id": "161d3260",
   "metadata": {
    "slideshow": {
     "slide_type": "slide"
    }
   },
   "source": [
    "### Calling mathematical functions"
   ]
  },
  {
   "cell_type": "markdown",
   "id": "b75c7b6a",
   "metadata": {
    "slideshow": {
     "slide_type": "-"
    }
   },
   "source": [
    "![Triangle](https://github.com/cmcneile/COMP5000-2022-lectures/blob/a736530362ddd04eab7111194a8acbd5aaeae55a/440px-Trigono_sine_en2.png?raw=true)\n",
    "\n",
    "A function is a relation between two objects, such as numbers.\n",
    "\n",
    "$$\n",
    "\\sin ( \\alpha) = \\frac{a}{h}\n",
    "$$\n",
    "\n",
    "$\\sin$ is used in the description of  waves."
   ]
  },
  {
   "cell_type": "code",
   "execution_count": 5,
   "id": "1527be36",
   "metadata": {},
   "outputs": [
    {
     "name": "stdout",
     "output_type": "stream",
     "text": [
      "3.142 -0.00040734639894142617\n"
     ]
    }
   ],
   "source": [
    "# Use a mathematical function, such as sin\n",
    "# The sine function is part of the ••math** module.\n",
    "import math\n",
    "# \n",
    "x = 3.142\n",
    "print (x , math.sin(x))"
   ]
  },
  {
   "cell_type": "markdown",
   "id": "1a1618cc",
   "metadata": {
    "slideshow": {
     "slide_type": "slide"
    }
   },
   "source": [
    "## Modules in python \n",
    "* python programms are constructed by combining functions\n",
    "* functions in external libraries are collected into modules\n",
    "* the functions in the modules are accessed by **importing** them"
   ]
  },
  {
   "cell_type": "code",
   "execution_count": 6,
   "id": "725256e9",
   "metadata": {},
   "outputs": [
    {
     "name": "stdout",
     "output_type": "stream",
     "text": [
      "3.142 -0.00040734639894142617\n"
     ]
    }
   ],
   "source": [
    "#  Example of calling a module\n",
    "import math\n",
    "x = 3.142\n",
    "print (x , math.sin(x))"
   ]
  },
  {
   "cell_type": "markdown",
   "id": "d4708ee6",
   "metadata": {
    "slideshow": {
     "slide_type": "slide"
    }
   },
   "source": [
    "##  Examples of modules\n",
    "Most modern languages now have extensive application libraries, which  are \n",
    "increasingly standardized. For python: \n",
    "\n",
    "* **math** basic mathemtics functions\n",
    "* **NumPy** arrays, matrices\n",
    "* **SciPy** a library of algorithms and mathematical tools (eg. matrix inversion)\n",
    "* **matplotlib** A numerical plotting library. \n",
    "* **re**  regular expressions.\n",
    "* **pandas**  module to work with spreadsheets\n",
    "* **scikit-learn** Machine Learning (Classification, Regression, Clustering, Model Selection)\n"
   ]
  },
  {
   "cell_type": "markdown",
   "id": "4c370c09",
   "metadata": {
    "slideshow": {
     "slide_type": "slide"
    }
   },
   "source": [
    "## Exception Handeling\n",
    "There are a number of **run time** possible errors with python code that cause python to stop\n",
    "\n",
    "* nunerical problems such 1/0 causing errors\n",
    "* trying to open a file that does not exist\n",
    "* the user inputs a letter rather than a number\n",
    "\n",
    "We need a way to gracefully deal with errors.\n",
    "\n",
    "* The errors may be in functions in external modules.\n",
    "* These are not syntax errors where incorrect python is entered.\n"
   ]
  },
  {
   "cell_type": "markdown",
   "id": "d7f8206c",
   "metadata": {
    "slideshow": {
     "slide_type": "slide"
    }
   },
   "source": [
    "## Example of an error\n",
    "* In Mathematics 1/0 is undefined. \n",
    "\n",
    "The example below is a simplified error"
   ]
  },
  {
   "cell_type": "code",
   "execution_count": 7,
   "id": "dc0b2c6d",
   "metadata": {},
   "outputs": [
    {
     "name": "stdout",
     "output_type": "stream",
     "text": [
      "10 / 2 = 5.0\n"
     ]
    },
    {
     "ename": "ZeroDivisionError",
     "evalue": "division by zero",
     "output_type": "error",
     "traceback": [
      "\u001b[0;31m---------------------------------------------------------------------------\u001b[0m",
      "\u001b[0;31mZeroDivisionError\u001b[0m                         Traceback (most recent call last)",
      "Cell \u001b[0;32mIn[7], line 8\u001b[0m\n\u001b[1;32m      6\u001b[0m \u001b[38;5;66;03m# call the function\u001b[39;00m\n\u001b[1;32m      7\u001b[0m calculate_ratio(\u001b[38;5;241m10\u001b[39m,\u001b[38;5;241m2\u001b[39m)  \u001b[38;5;66;03m#  works\u001b[39;00m\n\u001b[0;32m----> 8\u001b[0m \u001b[43mcalculate_ratio\u001b[49m\u001b[43m(\u001b[49m\u001b[38;5;241;43m10\u001b[39;49m\u001b[43m,\u001b[49m\u001b[38;5;241;43m0\u001b[39;49m\u001b[43m)\u001b[49m\n",
      "Cell \u001b[0;32mIn[7], line 2\u001b[0m, in \u001b[0;36mcalculate_ratio\u001b[0;34m(top, bot)\u001b[0m\n\u001b[1;32m      1\u001b[0m \u001b[38;5;28;01mdef\u001b[39;00m \u001b[38;5;21mcalculate_ratio\u001b[39m(top,bot):\n\u001b[0;32m----> 2\u001b[0m     ratio \u001b[38;5;241m=\u001b[39m \u001b[43mtop\u001b[49m\u001b[43m \u001b[49m\u001b[38;5;241;43m/\u001b[39;49m\u001b[43m \u001b[49m\u001b[43mbot\u001b[49m\n\u001b[1;32m      3\u001b[0m     \u001b[38;5;28mprint\u001b[39m(top ,  \u001b[38;5;124m\"\u001b[39m\u001b[38;5;124m/\u001b[39m\u001b[38;5;124m\"\u001b[39m , bot , \u001b[38;5;124m\"\u001b[39m\u001b[38;5;124m=\u001b[39m\u001b[38;5;124m\"\u001b[39m , ratio)\n",
      "\u001b[0;31mZeroDivisionError\u001b[0m: division by zero"
     ]
    }
   ],
   "source": [
    "def calculate_ratio(top,bot):\n",
    "    ratio = top / bot\n",
    "    print(top ,  \"/\" , bot , \"=\" , ratio)\n",
    "\n",
    "\n",
    "# call the function\n",
    "calculate_ratio(10,2)  #  works\n",
    "calculate_ratio(10,0)  #  fails"
   ]
  },
  {
   "cell_type": "markdown",
   "id": "011426ea",
   "metadata": {
    "slideshow": {
     "slide_type": "slide"
    }
   },
   "source": [
    "##  Introduction to exceptions\n",
    "\n",
    "* Python uses exception handelling to deal with runtime errors\n",
    "* See https://www.w3schools.com/python/python_try_except.asp for more information\n",
    "\n",
    "The **try** block lets you test a block of code for errors.\n",
    "\n",
    "The **except** block lets you handle the error.\n",
    "\n",
    "The **else** block lets you execute code when there is no error.\n",
    "\n",
    "The **finally** block lets you execute code, regardless of the result of the try and except blocks (not discussed today)."
   ]
  },
  {
   "cell_type": "code",
   "execution_count": 8,
   "id": "61ffe7c4",
   "metadata": {
    "slideshow": {
     "slide_type": "slide"
    }
   },
   "outputs": [
    {
     "name": "stdout",
     "output_type": "stream",
     "text": [
      "Error in the calculation of the ratio\n"
     ]
    }
   ],
   "source": [
    "# update our example\n",
    "def calculate_ratio(top,bot):\n",
    "     ratio = top / bot\n",
    "     print(top ,  \"/\" , bot , \"=\" , ratio)\n",
    "\n",
    "try:\n",
    "  calculate_ratio(10,0)  #  fails\n",
    "except:\n",
    "   print(\"Error in the calculation of the ratio\")\n",
    "else:\n",
    "   print(\"Start of more calculations\")"
   ]
  },
  {
   "cell_type": "code",
   "execution_count": null,
   "id": "65e51063",
   "metadata": {
    "slideshow": {
     "slide_type": "slide"
    }
   },
   "outputs": [],
   "source": [
    "#  An example of dealing with incorrect input from the user\n",
    "\n",
    "import sys\n",
    "x = input(\"Please enter a number: \")\n",
    "try:\n",
    "  i = int(x)\n",
    "except :\n",
    "  print(\"ERROR: Invalid input.\")\n",
    "else:\n",
    "  print(\"Start of the python script\")"
   ]
  },
  {
   "cell_type": "markdown",
   "id": "47f30c89",
   "metadata": {
    "slideshow": {
     "slide_type": "slide"
    }
   },
   "source": [
    "##  Example \n",
    "* The example below only runs when the user inputs a number"
   ]
  },
  {
   "cell_type": "code",
   "execution_count": null,
   "id": "39f22e53",
   "metadata": {},
   "outputs": [],
   "source": [
    "# \n",
    "while True:\n",
    "    try:\n",
    "        x = int(input(\"Please enter a number: \"))\n",
    "        break  # jumps out of the while loop\n",
    "    except ValueError:\n",
    "        print(\"That was no valid number.  Try again...\")\n",
    "\n",
    "print (\"The value inputted\" , x)"
   ]
  },
  {
   "cell_type": "markdown",
   "id": "3ac3db64",
   "metadata": {
    "slideshow": {
     "slide_type": "slide"
    }
   },
   "source": [
    "##  List of subset of specific exceptions\n",
    "\n",
    "* **exception FloatingPointError** Raised when a floating point operation fails. This exception is always defined, but can only be raised when Python is configured with the --with-fpectl option.\n",
    "\n",
    "* **exception GeneratorExit** Raised when a generator‘s close() method is called. It directly inherits from BaseException instead of StandardError since it is technically not an error.\n",
    "\n",
    "* **exception IOError** Raised when an I/O operation (such as a print statement, the built-in open() function or a method of a file object) fails for an I/O-related reason, e.g., “file not found” or “disk full”.\n",
    "\n",
    "* **exception ImportError** Raised when an import statement fails to find the module definition or when a from ... import fails to find a name that is to be imported.\n",
    "\n",
    "* **exception IndexError** Raised when a sequence subscript is out of range. (Slice indices are silently truncated to fall in the allowed range; if an index is not a plain integer, TypeError is raised.)\n"
   ]
  },
  {
   "cell_type": "markdown",
   "id": "c3250375",
   "metadata": {},
   "source": [
    "##  Using python to plot graphs"
   ]
  },
  {
   "cell_type": "markdown",
   "id": "b3cbdcc6",
   "metadata": {
    "slideshow": {
     "slide_type": "slide"
    }
   },
   "source": [
    "Basic plotting with python \n",
    "\n",
    "* matplotlib is a python 2D and 3D plotting library which produces publication quality figures in a variety of hardcopy formats and interactive environments across platforms.\n",
    "\n",
    "* The main web page http://matplotlib.org/\n",
    "\n",
    "* There are many examples of the code and resulting plots in the gallery: http://matplotlib.org/gallery.html. I use this site as the start point of building up a plot.\n"
   ]
  },
  {
   "cell_type": "markdown",
   "id": "ef9423f1",
   "metadata": {
    "slideshow": {
     "slide_type": "slide"
    }
   },
   "source": [
    "## Note on plotting with python\n",
    "\n",
    "* The python script must specfy **each part** of the plot, such as the the labels on the axis.\n",
    "* At first it can be slower to write a script rather than use a GUI\n",
    "\n",
    "\n",
    "![Graph](https://github.com/cmcneile/COMP5000-2022-lectures/blob/main/population_year.png?raw=true)\n"
   ]
  },
  {
   "cell_type": "markdown",
   "id": "77879c16",
   "metadata": {
    "slideshow": {
     "slide_type": "slide"
    }
   },
   "source": [
    "###  Example of a basic plot\n",
    "\n",
    "Developed from\n",
    "https://matplotlib.org/tutorials/introductory/usage.html#sphx-glr-tutorials-introductory-usage-py"
   ]
  },
  {
   "cell_type": "code",
   "execution_count": 18,
   "id": "973e34a2",
   "metadata": {},
   "outputs": [
    {
     "data": {
      "image/png": "[encoded data removed]",
      "text/plain": [
       "<Figure size 432x288 with 1 Axes>"
      ]
     },
     "metadata": {
      "needs_background": "light"
     },
     "output_type": "display_data"
    }
   ],
   "source": [
    "import matplotlib.pyplot as plt\n",
    "year = [ 2014, 2015, 2016, 2017, 2018] \n",
    "population = [261546, 261926, 262306, 262685, 262997 ] \n",
    "plt.plot(year, population, \"ro\")  # ro means red circular plotting symbol \n",
    "plt.title(\"Population of Plymouth with year\")\n",
    "plt.xlabel('Year')\n",
    "plt.ylabel('Population')\n",
    "plt.savefig(\"population_year.png\")\n",
    "plt.xlim(2013, 2019)\n",
    "plt.show()"
   ]
  },
  {
   "cell_type": "markdown",
   "id": "acb8870f",
   "metadata": {
    "slideshow": {
     "slide_type": "slide"
    }
   },
   "source": [
    "## Example of bar plot"
   ]
  },
  {
   "cell_type": "code",
   "execution_count": 5,
   "id": "16838bad",
   "metadata": {},
   "outputs": [
    {
     "data": {
      "image/png": "[encoded data removed]",
      "text/plain": [
       "<Figure size 432x288 with 1 Axes>"
      ]
     },
     "metadata": {
      "needs_background": "light"
     },
     "output_type": "display_data"
    }
   ],
   "source": [
    "import matplotlib.pyplot as plt\n",
    "x_pos  = [ 0 , 1 , 2 , 3 , 4]\n",
    "bars   = [ \"Dent\" , \"Scratch\" , \"Specifications\" , \"Other\"  , \"Smudge\" ]\n",
    "frequency = [ 11, 7 , 11 , 7 , 4 ]\n",
    "plt.bar(x_pos, frequency)\n",
    "plt.xticks(x_pos, bars)\n",
    "plt.ylabel('Frequency')\n",
    "plt.savefig(\"bar_part.pdf\")\n",
    "# Show graphic\n",
    "plt.show()\n"
   ]
  },
  {
   "cell_type": "markdown",
   "id": "ad6ac1b0",
   "metadata": {
    "slideshow": {
     "slide_type": "slide"
    }
   },
   "source": [
    "##  Plot example: pie graph\n",
    "\n",
    "* The size of the area of each segment is proportional to the frequency or percentage.\n",
    "\n",
    "* Personally I view this graph as more for managers, but it does show the relative magnitude of the different contributions well.\n",
    "\n",
    "![PieExample](https://www.w3resource.com/w3r_images/matplotlib-piechart-exercise-1.png)"
   ]
  },
  {
   "cell_type": "markdown",
   "id": "32f49e42",
   "metadata": {
    "slideshow": {
     "slide_type": "slide"
    }
   },
   "source": [
    "### Example of plotting a pie graph"
   ]
  },
  {
   "cell_type": "code",
   "execution_count": 20,
   "id": "e83e3076",
   "metadata": {
    "slideshow": {
     "slide_type": "-"
    }
   },
   "outputs": [
    {
     "data": {
      "image/png": "[encoded data removed]",
      "text/plain": [
       "<Figure size 432x288 with 1 Axes>"
      ]
     },
     "metadata": {},
     "output_type": "display_data"
    }
   ],
   "source": [
    "import matplotlib.pyplot as plt\n",
    "# create the plot \n",
    "colors = ['gold', 'yellowgreen', 'lightcoral', 'lightskyblue' ,\n",
    "'green']\n",
    "explode = (0 , 0, 0, 0, 0)  # explode 1st slice\n",
    "bars   = [ \"Dent\" , \"Scratch\", \"Specifications\" , \"Other\"  ,\n",
    "\"Smudge\" ]\n",
    "frequency = [ 11, 7 , 11 , 7 , 4 ]\n",
    "plt.pie(frequency, explode=explode, labels=bars, colors=colors,\n",
    "autopct='%1.1f%%')\n",
    "plt.savefig(\"pie_part.pdf\")\n",
    "# Show graphic\n",
    "plt.show()"
   ]
  },
  {
   "cell_type": "markdown",
   "id": "e0458356",
   "metadata": {
    "slideshow": {
     "slide_type": "slide"
    }
   },
   "source": [
    "##  Example of the histogram plot\n",
    "\n",
    "Consider the measured lifetime of light bulbs:\n",
    "1500, 1490, 1510, 1500, 1490, 1470, 1510, 1480, 1490, 1520, 1510 and 1470 hours\n",
    "\n",
    "* The histogram is a useful plot if you have a large number of numerical values.\n",
    "\n",
    "* Break the numerical range which includes the data into regular intervals (sometimes known as bins).\n",
    "\n",
    "* Count the number of data values in each bin.\n",
    "\n",
    "* Plot a rectangle for each bin with the width of bin and the height as the number of data contained in the bin.\n",
    "\n",
    "\n",
    "\n"
   ]
  },
  {
   "cell_type": "markdown",
   "id": "eb129908",
   "metadata": {
    "slideshow": {
     "slide_type": "slide"
    }
   },
   "source": [
    "\n",
    "![Histeg](https://github.com/cmcneile/COMP5000-2022-lectures/blob/main/hist_table.png?raw=true)"
   ]
  },
  {
   "cell_type": "code",
   "execution_count": 17,
   "id": "9bdeab47",
   "metadata": {
    "slideshow": {
     "slide_type": "slide"
    }
   },
   "outputs": [
    {
     "data": {
      "image/png": "[encoded data removed]",
      "text/plain": [
       "<Figure size 432x288 with 1 Axes>"
      ]
     },
     "metadata": {
      "needs_background": "light"
     },
     "output_type": "display_data"
    }
   ],
   "source": [
    "import matplotlib.pyplot as plt\n",
    "lifetime = [ 1500, 1490, 1510, 1500, 1490, 1470, 1510,\n",
    "   1480, 1490, 1520, 1510, 1470]\n",
    "plt.hist(lifetime)\n",
    "plt.xlabel(\"Lifetime of light bulb hours\")\n",
    "plt.title(\"Histogram of lifetime of light bulbs\")\n",
    "\n",
    "plt.show()\n"
   ]
  },
  {
   "cell_type": "markdown",
   "id": "f473f1ca",
   "metadata": {
    "slideshow": {
     "slide_type": "slide"
    }
   },
   "source": [
    "## Example of 3D plot\n",
    "\n",
    "* Source code from https://matplotlib.org/2.0.2/examples/mplot3d/surface3d_demo.html"
   ]
  },
  {
   "cell_type": "code",
   "execution_count": 4,
   "id": "f89d3cdc",
   "metadata": {},
   "outputs": [
    {
     "name": "stderr",
     "output_type": "stream",
     "text": [
      "/var/folders/6m/lb4tj5q142l1fydx4rw88kkhtkdcl_/T/ipykernel_95869/1079073060.py:21: MatplotlibDeprecationWarning: Calling gca() with keyword arguments was deprecated in Matplotlib 3.4. Starting two minor releases later, gca() will take no keyword arguments. The gca() function should only be used to get the current axes, or if no axes exist, create new axes with default keyword arguments. To create a new axes with non-default arguments, use plt.axes() or plt.subplot().\n",
      "  ax = fig.gca(projection='3d')\n"
     ]
    },
    {
     "data": {
      "image/png": "[encoded data removed]",
      "text/plain": [
       "<Figure size 432x288 with 2 Axes>"
      ]
     },
     "metadata": {
      "needs_background": "light"
     },
     "output_type": "display_data"
    }
   ],
   "source": [
    "'''\n",
    "======================\n",
    "3D surface (color map)\n",
    "======================\n",
    "\n",
    "Demonstrates plotting a 3D surface colored with the coolwarm color map.\n",
    "The surface is made opaque by using antialiased=False.\n",
    "\n",
    "Also demonstrates using the LinearLocator and custom formatting for the\n",
    "z axis tick labels.\n",
    "'''\n",
    "\n",
    "from mpl_toolkits.mplot3d import Axes3D\n",
    "import matplotlib.pyplot as plt\n",
    "from matplotlib import cm\n",
    "from matplotlib.ticker import LinearLocator, FormatStrFormatter\n",
    "import numpy as np\n",
    "\n",
    "\n",
    "fig = plt.figure()\n",
    "ax = fig.gca(projection='3d')\n",
    "\n",
    "# Make data.\n",
    "X = np.arange(-5, 5, 0.25)\n",
    "Y = np.arange(-5, 5, 0.25)\n",
    "X, Y = np.meshgrid(X, Y)\n",
    "R = np.sqrt(X**2 + Y**2)\n",
    "Z = np.sin(R)\n",
    "\n",
    "# Plot the surface.\n",
    "surf = ax.plot_surface(X, Y, Z, cmap=cm.coolwarm,\n",
    "                       linewidth=0, antialiased=False)\n",
    "\n",
    "# Customize the z axis.\n",
    "ax.set_zlim(-1.01, 1.01)\n",
    "ax.zaxis.set_major_locator(LinearLocator(10))\n",
    "ax.zaxis.set_major_formatter(FormatStrFormatter('%.02f'))\n",
    "\n",
    "# Add a color bar which maps values to colors.\n",
    "fig.colorbar(surf, shrink=0.5, aspect=5)\n",
    "\n",
    "plt.show()\n"
   ]
  },
  {
   "cell_type": "code",
   "execution_count": null,
   "id": "d0931669",
   "metadata": {},
   "outputs": [],
   "source": []
  },
  {
   "cell_type": "code",
   "execution_count": null,
   "id": "c8c0d100",
   "metadata": {},
   "outputs": [],
   "source": []
  }
 ],
 "metadata": {
  "celltoolbar": "Slideshow",
  "kernelspec": {
   "display_name": "Python 3 (ipykernel)",
   "language": "python",
   "name": "python3"
  },
  "language_info": {
   "codemirror_mode": {
    "name": "ipython",
    "version": 3
   },
   "file_extension": ".py",
   "mimetype": "text/x-python",
   "name": "python",
   "nbconvert_exporter": "python",
   "pygments_lexer": "ipython3",
   "version": "3.9.17"
  }
 },
 "nbformat": 4,
 "nbformat_minor": 5
}
